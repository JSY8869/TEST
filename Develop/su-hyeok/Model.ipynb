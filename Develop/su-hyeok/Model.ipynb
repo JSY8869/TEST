{
 "metadata": {
  "language_info": {
   "codemirror_mode": {
    "name": "ipython",
    "version": 3
   },
   "file_extension": ".py",
   "mimetype": "text/x-python",
   "name": "python",
   "nbconvert_exporter": "python",
   "pygments_lexer": "ipython3",
   "version": "3.6.13"
  },
  "orig_nbformat": 4,
  "kernelspec": {
   "name": "python3",
   "display_name": "Python 3.6.13 64-bit ('develop': conda)"
  },
  "interpreter": {
   "hash": "2d96fff6999327154348f938a106912098fae993114b52ef6bc3b6f818b91f59"
  }
 },
 "nbformat": 4,
 "nbformat_minor": 2,
 "cells": [
  {
   "cell_type": "code",
   "execution_count": 1,
   "metadata": {},
   "outputs": [],
   "source": [
    "from konlpy.tag import Okt\n",
    "from tensorflow.keras.utils import get_file\n",
    "from tensorflow.keras.preprocessing.sequence import pad_sequences\n",
    "from tensorflow.keras.utils import to_categorical\n",
    "import numpy as np\n",
    "from nltk import FreqDist\n",
    "from functools import reduce\n",
    "import os\n",
    "import re\n",
    "import matplotlib.pyplot as plt"
   ]
  },
  {
   "cell_type": "code",
   "execution_count": 2,
   "metadata": {},
   "outputs": [],
   "source": [
    "okt = Okt()"
   ]
  },
  {
   "cell_type": "code",
   "execution_count": 3,
   "metadata": {},
   "outputs": [],
   "source": [
    "TRAIN_FILE = os.path.join(\"qa1_single-supporting-fact_train_kor.txt\")\n",
    "TEST_FILE = os.path.join(\"qa1_single-supporting-fact_test_kor.txt\")"
   ]
  },
  {
   "cell_type": "code",
   "execution_count": 4,
   "metadata": {},
   "outputs": [
    {
     "output_type": "stream",
     "name": "stdout",
     "text": [
      "1 필웅이는 화장실로 갔습니다.\n2 은경이는 복도로 이동했습니다.\n3 필웅이는 어디야? \t화장실\t1\n4 수종이는 복도로 복귀했습니다.\n5 경임이는 정원으로 갔습니다.\n6 수종이는 어디야? \t복도\t4\n7 은경이는 사무실로 갔습니다.\n8 경임이는 화장실로 뛰어갔습니다.\n9 수종이는 어디야? \t복도\t4\n10 필웅이는 복도로 갔습니다.\n11 수종이는 사무실로 가버렸습니다.\n12 수종이는 어디야? \t사무실\t11\n13 은경이는 정원으로 복귀했습니다.\n14 은경이는 침실로 갔습니다.\n15 경임이는 어디야? \t화장실\t8\n1 경임이는 사무실로 가버렸습니다.\n2 경임이는 화장실로 이동했습니다.\n3 경임이는 어디야? \t화장실\t2\n4 필웅이는 침실로 이동했습니다.\n5 수종이는 복도로 갔습니다.\n"
     ]
    }
   ],
   "source": [
    "i = 0\n",
    "lines = open(TRAIN_FILE , \"rb\")\n",
    "for line in lines:\n",
    "    line = line.decode(\"utf-8\").strip()\n",
    "    i = i + 1\n",
    "    print(line)\n",
    "    if i == 20:\n",
    "      break"
   ]
  },
  {
   "cell_type": "code",
   "execution_count": 5,
   "metadata": {},
   "outputs": [],
   "source": [
    "def read_data(dir):\n",
    "    stories, questions, answers = [], [], [] # 각각 스토리, 질문, 답변을 저장할 예정\n",
    "    story_temp = [] # 현재 시점의 스토리 임시 저장\n",
    "    lines = open(dir, \"rb\")\n",
    "\n",
    "    for line in lines:\n",
    "        line = line.decode(\"utf-8\") # b' 제거\n",
    "        line = line.strip() # '\\n' 제거\n",
    "        idx, text = line.split(\" \", 1) # 맨 앞에 있는 id number 분리\n",
    "        # 여기까지는 모든 줄에 적용되는 전처리\n",
    "\n",
    "        if int(idx) == 1:\n",
    "            story_temp = []\n",
    "\n",
    "        if \"\\t\" in text: # 현재 읽는 줄이 질문 (tab) 답변 (tab)인 경우\n",
    "            question, answer, _ = text.split(\"\\t\") # 질문과 답변을 각각 저장\n",
    "            stories.append([x for x in story_temp if x]) # 지금까지의 누적 스토리를 스토리에 저장\n",
    "            questions.append(question)\n",
    "            answers.append(answer)\n",
    "\n",
    "        else: # 현재 읽는 줄이 스토리인 경우\n",
    "            story_temp.append(text) # 임시 저장\n",
    "\n",
    "    lines.close()\n",
    "    return stories, questions, answers"
   ]
  },
  {
   "cell_type": "code",
   "execution_count": 6,
   "metadata": {},
   "outputs": [],
   "source": [
    "train_data = read_data(TRAIN_FILE)\n",
    "test_data = read_data(TEST_FILE)"
   ]
  },
  {
   "cell_type": "code",
   "execution_count": 7,
   "metadata": {},
   "outputs": [],
   "source": [
    "train_stories, train_questions, train_answers = read_data(TRAIN_FILE)\n",
    "test_stories, test_questions, test_answers = read_data(TEST_FILE)"
   ]
  },
  {
   "cell_type": "code",
   "execution_count": 8,
   "metadata": {},
   "outputs": [],
   "source": [
    "# print('훈련용 스토리의 개수 :', len(train_stories))\n",
    "# print('훈련용 질문의 개수 :',len(train_questions))\n",
    "# print('훈련용 답변의 개수 :',len(train_answers))\n",
    "# print('테스트용 스토리의 개수 :',len(test_stories))\n",
    "# print('테스트용 질문의 개수 :',len(test_questions))\n",
    "# print('테스트용 답변의 개수 :',len(test_answers))"
   ]
  },
  {
   "cell_type": "code",
   "execution_count": 9,
   "metadata": {},
   "outputs": [],
   "source": [
    "def tokenize(sent):\n",
    "    return [x.strip() for x in re.split('(\\W+)?', sent) if x.strip()]"
   ]
  },
  {
   "cell_type": "code",
   "execution_count": 10,
   "metadata": {},
   "outputs": [],
   "source": [
    "def preprocess_data(train_data, test_data):\n",
    "    counter = FreqDist()\n",
    "\n",
    "    # 두 문장의 story를 하나의 문장으로 통합하는 함수\n",
    "    flatten = lambda data: reduce(lambda x, y: x + y, data)\n",
    "\n",
    "    # 각 샘플의 길이를 저장하는 리스트\n",
    "    story_len = []\n",
    "    question_len = []\n",
    "\n",
    "    for stories, questions, answers in [train_data, test_data]:\n",
    "        for story in stories:\n",
    "            stories = tokenize(flatten(story)) # 스토리의 문장들을 펼친 후 토큰화\n",
    "            story_len.append(len(stories)) # 각 story의 길이 저장\n",
    "            for word in stories: # 단어 집합에 단어 추가\n",
    "                counter[word] += 1\n",
    "        for question in questions:\n",
    "            question = tokenize(question)\n",
    "            question_len.append(len(question))\n",
    "            for word in question:\n",
    "                counter[word] += 1\n",
    "        for answer in answers:\n",
    "            answer = tokenize(answer)\n",
    "            for word in answer:\n",
    "                counter[word] += 1\n",
    "\n",
    "    # 단어 집합 생성\n",
    "    word2idx = {word : (idx + 1) for idx, (word, _) in enumerate(counter.most_common())}\n",
    "    idx2word = {idx : word for word, idx in word2idx.items()}\n",
    "\n",
    "    # 가장 긴 샘플의 길이\n",
    "    story_max_len = np.max(story_len)\n",
    "    question_max_len = np.max(question_len)\n",
    "\n",
    "    return word2idx, idx2word, story_max_len, question_max_len"
   ]
  },
  {
   "cell_type": "code",
   "execution_count": 11,
   "metadata": {},
   "outputs": [
    {
     "output_type": "stream",
     "name": "stderr",
     "text": [
      "C:\\Users\\shlee\\anaconda3\\envs\\develop\\lib\\re.py:212: FutureWarning: split() requires a non-empty pattern match.\n  return _compile(pattern, flags).split(string, maxsplit)\n"
     ]
    }
   ],
   "source": [
    "word2idx, idx2word, story_max_len, question_max_len = preprocess_data(train_data, test_data)"
   ]
  },
  {
   "cell_type": "code",
   "execution_count": 12,
   "metadata": {},
   "outputs": [],
   "source": [
    "vocab_size = len(word2idx) + 1"
   ]
  },
  {
   "cell_type": "code",
   "execution_count": 13,
   "metadata": {},
   "outputs": [
    {
     "output_type": "stream",
     "name": "stdout",
     "text": [
      "스토리의 최대 길이 : 40\n질문의 최대 길이 : 3\n"
     ]
    }
   ],
   "source": [
    "print('스토리의 최대 길이 :',story_max_len)\n",
    "print('질문의 최대 길이 :',question_max_len)"
   ]
  },
  {
   "cell_type": "code",
   "execution_count": 14,
   "metadata": {},
   "outputs": [],
   "source": [
    "def vectorize(data, word2idx, story_maxlen, question_maxlen):\n",
    "    Xs, Xq, Y = [], [], []\n",
    "    flatten = lambda data: reduce(lambda x, y: x + y, data)\n",
    "\n",
    "    stories, questions, answers = data\n",
    "    for story, question, answer in zip(stories, questions, answers):\n",
    "        xs = [word2idx[w] for w in tokenize(flatten(story))]\n",
    "        xq = [word2idx[w] for w in tokenize(question)]\n",
    "        Xs.append(xs)\n",
    "        Xq.append(xq)\n",
    "        Y.append(word2idx[answer])\n",
    "        # 스토리와 질문은 각각의 최대 길이로 패딩\n",
    "        # 정답은 원-핫 인코딩\n",
    "    return pad_sequences(Xs, maxlen=story_maxlen),\\\n",
    "           pad_sequences(Xq, maxlen=question_maxlen),\\\n",
    "           to_categorical(Y, num_classes=len(word2idx) + 1)"
   ]
  },
  {
   "cell_type": "code",
   "execution_count": 15,
   "metadata": {},
   "outputs": [],
   "source": [
    "Xstrain, Xqtrain, Ytrain = vectorize(train_data, word2idx, story_max_len, question_max_len)\n",
    "Xstest, Xqtest, Ytest = vectorize(test_data, word2idx, story_max_len, question_max_len)"
   ]
  },
  {
   "cell_type": "code",
   "execution_count": 16,
   "metadata": {},
   "outputs": [
    {
     "output_type": "stream",
     "name": "stdout",
     "text": [
      "(10000, 40) (10000, 3) (10000, 25) (1000, 40) (1000, 3) (1000, 25)\n"
     ]
    }
   ],
   "source": [
    "print(Xstrain.shape, Xqtrain.shape, Ytrain.shape, Xstest.shape, Xqtest.shape, Ytest.shape)"
   ]
  },
  {
   "cell_type": "code",
   "execution_count": 17,
   "metadata": {},
   "outputs": [],
   "source": [
    "from tensorflow.keras.models import Sequential, Model\n",
    "from tensorflow.keras.layers import Embedding\n",
    "from tensorflow.keras.layers import Permute, dot, add, concatenate\n",
    "from tensorflow.keras.layers import LSTM, Dense, Dropout, Input, Activation"
   ]
  },
  {
   "cell_type": "code",
   "execution_count": 18,
   "metadata": {},
   "outputs": [],
   "source": [
    "# 에포크 횟수\n",
    "train_epochs = 120\n",
    "# 배치 크기\n",
    "batch_size = 32\n",
    "# 임베딩 크기\n",
    "embed_size = 50\n",
    "# LSTM의 크기\n",
    "lstm_size = 64\n",
    "# 과적합 방지 기법인 드롭아웃 적용 비율\n",
    "dropout_rate = 0.30"
   ]
  },
  {
   "cell_type": "code",
   "execution_count": 19,
   "metadata": {},
   "outputs": [],
   "source": [
    "input_sequence = Input((story_max_len,))\n",
    "question = Input((question_max_len,))\n",
    "\n",
    "# print('Stories :', input_sequence)\n",
    "# print('Question:', question)"
   ]
  },
  {
   "cell_type": "code",
   "execution_count": 20,
   "metadata": {},
   "outputs": [],
   "source": [
    "# 스토리를 위한 첫번째 임베딩. 그림에서의 Embedding A\n",
    "input_encoder_m = Sequential()\n",
    "input_encoder_m.add(Embedding(input_dim=vocab_size,\n",
    "                              output_dim=embed_size))\n",
    "input_encoder_m.add(Dropout(dropout_rate))\n",
    "# 결과 : (samples, story_max_len, embedding_dim) / 샘플의 수, 문장의 최대 길이, 임베딩 벡터의 차원\n",
    "\n",
    "# 스토리를 위한 두번째 임베딩. 그림에서의 Embedding C\n",
    "# 임베딩 벡터의 차원을 question_max_len(질문의 최대 길이)로 한다.\n",
    "input_encoder_c = Sequential()\n",
    "input_encoder_c.add(Embedding(input_dim=vocab_size,\n",
    "                              output_dim=question_max_len))\n",
    "input_encoder_c.add(Dropout(dropout_rate))\n",
    "# 결과 : (samples, story_max_len, question_max_len) / 샘플의 수, 문장의 최대 길이, 질문의 최대 길이(임베딩 벡터의 차원)"
   ]
  },
  {
   "cell_type": "code",
   "execution_count": 21,
   "metadata": {},
   "outputs": [],
   "source": [
    "# 질문을 위한 임베딩. 그림에서의 Embedding B\n",
    "question_encoder = Sequential()\n",
    "question_encoder.add(Embedding(input_dim=vocab_size,\n",
    "                               output_dim=embed_size,\n",
    "                               input_length=question_max_len))\n",
    "question_encoder.add(Dropout(dropout_rate))\n",
    "# 결과 : (samples, question_max_len, embedding_dim) / 샘플의 수, 질문의 최대 길이, 임베딩 벡터의 차원"
   ]
  },
  {
   "cell_type": "code",
   "execution_count": 22,
   "metadata": {},
   "outputs": [],
   "source": [
    "# 실질적인 임베딩 과정\n",
    "input_encoded_m = input_encoder_m(input_sequence)\n",
    "input_encoded_c = input_encoder_c(input_sequence)\n",
    "question_encoded = question_encoder(question)\n",
    "\n",
    "# print('Input encoded m', input_encoded_m)\n",
    "# print('Input encoded c', input_encoded_c)\n",
    "# print('Question encoded', question_encoded)"
   ]
  },
  {
   "cell_type": "code",
   "execution_count": 23,
   "metadata": {},
   "outputs": [
    {
     "output_type": "stream",
     "name": "stdout",
     "text": [
      "Match shape KerasTensor(type_spec=TensorSpec(shape=(None, 40, 3), dtype=tf.float32, name=None), name='activation/Softmax:0', description=\"created by layer 'activation'\")\nResponse shape KerasTensor(type_spec=TensorSpec(shape=(None, 3, 40), dtype=tf.float32, name=None), name='permute/transpose:0', description=\"created by layer 'permute'\")\nAnswer shape KerasTensor(type_spec=TensorSpec(shape=(None, 3, 90), dtype=tf.float32, name=None), name='concatenate/concat:0', description=\"created by layer 'concatenate'\")\n"
     ]
    }
   ],
   "source": [
    "# 스토리 단어들과 질문 단어들 간의 유사도를 구하는 과정\n",
    "# 유사도는 내적을 사용한다.\n",
    "match = dot([input_encoded_m, question_encoded], axes=-1, normalize=False)\n",
    "match = Activation('softmax')(match)\n",
    "print('Match shape', match)\n",
    "# 결과 : (samples, story_maxlen, question_max_len) / 샘플의 수, 문장의 최대 길이, 질문의 최대 길이\n",
    "\n",
    "# add the match matrix with the second input vector sequence\n",
    "response = add([match, input_encoded_c])  # (samples, story_max_len, question_max_len)\n",
    "response = Permute((2, 1))(response)  # (samples, question_max_len, story_max_len)\n",
    "print('Response shape', response)\n",
    "\n",
    "# concatenate the response vector with the question vector sequence\n",
    "answer = concatenate([response, question_encoded])\n",
    "print('Answer shape', answer)\n",
    "\n",
    "answer = LSTM(lstm_size)(answer)  # Generate tensors of shape 32\n",
    "answer = Dropout(dropout_rate)(answer)\n",
    "answer = Dense(vocab_size)(answer)  # (samples, vocab_size)\n",
    "# we output a probability distribution over the vocabulary\n",
    "answer = Activation('softmax')(answer)"
   ]
  },
  {
   "cell_type": "code",
   "execution_count": 24,
   "metadata": {},
   "outputs": [
    {
     "output_type": "stream",
     "name": "stdout",
     "text": [
      "Model: \"model\"\n",
      "__________________________________________________________________________________________________\n",
      "Layer (type)                    Output Shape         Param #     Connected to                     \n",
      "==================================================================================================\n",
      "input_1 (InputLayer)            [(None, 40)]         0                                            \n",
      "__________________________________________________________________________________________________\n",
      "input_2 (InputLayer)            [(None, 3)]          0                                            \n",
      "__________________________________________________________________________________________________\n",
      "sequential (Sequential)         (None, None, 50)     1250        input_1[0][0]                    \n",
      "__________________________________________________________________________________________________\n",
      "sequential_2 (Sequential)       (None, 3, 50)        1250        input_2[0][0]                    \n",
      "__________________________________________________________________________________________________\n",
      "dot (Dot)                       (None, 40, 3)        0           sequential[0][0]                 \n",
      "                                                                 sequential_2[0][0]               \n",
      "__________________________________________________________________________________________________\n",
      "activation (Activation)         (None, 40, 3)        0           dot[0][0]                        \n",
      "__________________________________________________________________________________________________\n",
      "sequential_1 (Sequential)       (None, None, 3)      75          input_1[0][0]                    \n",
      "__________________________________________________________________________________________________\n",
      "add (Add)                       (None, 40, 3)        0           activation[0][0]                 \n",
      "                                                                 sequential_1[0][0]               \n",
      "__________________________________________________________________________________________________\n",
      "permute (Permute)               (None, 3, 40)        0           add[0][0]                        \n",
      "__________________________________________________________________________________________________\n",
      "concatenate (Concatenate)       (None, 3, 90)        0           permute[0][0]                    \n",
      "                                                                 sequential_2[0][0]               \n",
      "__________________________________________________________________________________________________\n",
      "lstm (LSTM)                     (None, 64)           39680       concatenate[0][0]                \n",
      "__________________________________________________________________________________________________\n",
      "dropout_3 (Dropout)             (None, 64)           0           lstm[0][0]                       \n",
      "__________________________________________________________________________________________________\n",
      "dense (Dense)                   (None, 25)           1625        dropout_3[0][0]                  \n",
      "__________________________________________________________________________________________________\n",
      "activation_1 (Activation)       (None, 25)           0           dense[0][0]                      \n",
      "==================================================================================================\n",
      "Total params: 43,880\n",
      "Trainable params: 43,880\n",
      "Non-trainable params: 0\n",
      "__________________________________________________________________________________________________\n",
      "None\n",
      "Epoch 1/120\n",
      "313/313 [==============================] - 6s 10ms/step - loss: 1.8958 - acc: 0.1716 - val_loss: 1.7992 - val_acc: 0.1570\n",
      "Epoch 2/120\n",
      "313/313 [==============================] - 3s 8ms/step - loss: 1.7180 - acc: 0.2532 - val_loss: 1.5946 - val_acc: 0.3830\n",
      "Epoch 3/120\n",
      "313/313 [==============================] - 2s 8ms/step - loss: 1.5491 - acc: 0.3892 - val_loss: 1.4722 - val_acc: 0.4340\n",
      "Epoch 4/120\n",
      "313/313 [==============================] - 2s 8ms/step - loss: 1.4816 - acc: 0.4301 - val_loss: 1.4278 - val_acc: 0.4470\n",
      "Epoch 5/120\n",
      "313/313 [==============================] - 3s 9ms/step - loss: 1.4122 - acc: 0.4560 - val_loss: 1.3605 - val_acc: 0.4530\n",
      "Epoch 6/120\n",
      "313/313 [==============================] - 3s 8ms/step - loss: 1.3696 - acc: 0.4613 - val_loss: 1.3498 - val_acc: 0.4590\n",
      "Epoch 7/120\n",
      "313/313 [==============================] - 3s 9ms/step - loss: 1.3484 - acc: 0.4743 - val_loss: 1.3248 - val_acc: 0.4710\n",
      "Epoch 8/120\n",
      "313/313 [==============================] - 2s 7ms/step - loss: 1.3386 - acc: 0.4708 - val_loss: 1.3230 - val_acc: 0.4790\n",
      "Epoch 9/120\n",
      "313/313 [==============================] - 2s 7ms/step - loss: 1.3216 - acc: 0.4812 - val_loss: 1.3077 - val_acc: 0.4900\n",
      "Epoch 10/120\n",
      "313/313 [==============================] - 2s 7ms/step - loss: 1.3067 - acc: 0.4896 - val_loss: 1.2845 - val_acc: 0.5010\n",
      "Epoch 11/120\n",
      "313/313 [==============================] - 2s 8ms/step - loss: 1.2902 - acc: 0.5001 - val_loss: 1.2832 - val_acc: 0.4840\n",
      "Epoch 12/120\n",
      "313/313 [==============================] - 3s 9ms/step - loss: 1.2723 - acc: 0.4998 - val_loss: 1.2461 - val_acc: 0.5230\n",
      "Epoch 13/120\n",
      "313/313 [==============================] - 3s 10ms/step - loss: 1.2608 - acc: 0.5106 - val_loss: 1.2746 - val_acc: 0.5000\n",
      "Epoch 14/120\n",
      "313/313 [==============================] - 3s 9ms/step - loss: 1.2427 - acc: 0.5086 - val_loss: 1.2375 - val_acc: 0.5170\n",
      "Epoch 15/120\n",
      "313/313 [==============================] - 3s 9ms/step - loss: 1.2357 - acc: 0.5135 - val_loss: 1.2496 - val_acc: 0.5060\n",
      "Epoch 16/120\n",
      "313/313 [==============================] - 3s 9ms/step - loss: 1.2165 - acc: 0.5195 - val_loss: 1.2055 - val_acc: 0.5320\n",
      "Epoch 17/120\n",
      "313/313 [==============================] - 3s 9ms/step - loss: 1.2157 - acc: 0.5207 - val_loss: 1.2077 - val_acc: 0.5200\n",
      "Epoch 18/120\n",
      "313/313 [==============================] - 3s 9ms/step - loss: 1.2034 - acc: 0.5233 - val_loss: 1.1968 - val_acc: 0.5340\n",
      "Epoch 19/120\n",
      "313/313 [==============================] - 3s 10ms/step - loss: 1.1773 - acc: 0.5438 - val_loss: 1.1320 - val_acc: 0.5820\n",
      "Epoch 20/120\n",
      "313/313 [==============================] - 3s 9ms/step - loss: 1.1223 - acc: 0.5786 - val_loss: 1.0605 - val_acc: 0.6230\n",
      "Epoch 21/120\n",
      "313/313 [==============================] - 3s 10ms/step - loss: 1.0508 - acc: 0.6193 - val_loss: 0.9447 - val_acc: 0.6720\n",
      "Epoch 22/120\n",
      "313/313 [==============================] - 3s 11ms/step - loss: 0.9505 - acc: 0.6629 - val_loss: 0.8534 - val_acc: 0.7120\n",
      "Epoch 23/120\n",
      "313/313 [==============================] - 3s 10ms/step - loss: 0.8739 - acc: 0.6885 - val_loss: 0.7878 - val_acc: 0.7200\n",
      "Epoch 24/120\n",
      "313/313 [==============================] - 3s 10ms/step - loss: 0.8100 - acc: 0.7092 - val_loss: 0.7345 - val_acc: 0.7500\n",
      "Epoch 25/120\n",
      "313/313 [==============================] - 3s 10ms/step - loss: 0.7703 - acc: 0.7243 - val_loss: 0.7079 - val_acc: 0.7450\n",
      "Epoch 26/120\n",
      "313/313 [==============================] - 3s 9ms/step - loss: 0.7167 - acc: 0.7404 - val_loss: 0.7013 - val_acc: 0.7410\n",
      "Epoch 27/120\n",
      "313/313 [==============================] - 3s 9ms/step - loss: 0.6886 - acc: 0.7501 - val_loss: 0.6675 - val_acc: 0.7660\n",
      "Epoch 28/120\n",
      "313/313 [==============================] - 3s 9ms/step - loss: 0.6561 - acc: 0.7623 - val_loss: 0.6506 - val_acc: 0.7650\n",
      "Epoch 29/120\n",
      "313/313 [==============================] - 3s 8ms/step - loss: 0.6239 - acc: 0.7724 - val_loss: 0.6284 - val_acc: 0.7870\n",
      "Epoch 30/120\n",
      "313/313 [==============================] - 3s 9ms/step - loss: 0.5969 - acc: 0.7802 - val_loss: 0.5972 - val_acc: 0.7910\n",
      "Epoch 31/120\n",
      "313/313 [==============================] - 3s 9ms/step - loss: 0.5746 - acc: 0.7884 - val_loss: 0.5837 - val_acc: 0.7940\n",
      "Epoch 32/120\n",
      "313/313 [==============================] - 3s 9ms/step - loss: 0.5494 - acc: 0.7988 - val_loss: 0.5651 - val_acc: 0.7980\n",
      "Epoch 33/120\n",
      "313/313 [==============================] - 2s 8ms/step - loss: 0.5224 - acc: 0.8086 - val_loss: 0.5410 - val_acc: 0.8160\n",
      "Epoch 34/120\n",
      "313/313 [==============================] - 3s 9ms/step - loss: 0.4956 - acc: 0.8193 - val_loss: 0.5204 - val_acc: 0.8120\n",
      "Epoch 35/120\n",
      "313/313 [==============================] - 3s 8ms/step - loss: 0.4753 - acc: 0.8286 - val_loss: 0.4936 - val_acc: 0.8220\n",
      "Epoch 36/120\n",
      "313/313 [==============================] - 3s 8ms/step - loss: 0.4526 - acc: 0.8332 - val_loss: 0.4762 - val_acc: 0.8300\n",
      "Epoch 37/120\n",
      "313/313 [==============================] - 2s 8ms/step - loss: 0.4319 - acc: 0.8428 - val_loss: 0.4485 - val_acc: 0.8430\n",
      "Epoch 38/120\n",
      "313/313 [==============================] - 2s 8ms/step - loss: 0.4135 - acc: 0.8433 - val_loss: 0.4304 - val_acc: 0.8410\n",
      "Epoch 39/120\n",
      "313/313 [==============================] - 3s 8ms/step - loss: 0.3974 - acc: 0.8516 - val_loss: 0.4304 - val_acc: 0.8350\n",
      "Epoch 40/120\n",
      "313/313 [==============================] - 3s 8ms/step - loss: 0.3838 - acc: 0.8552 - val_loss: 0.4297 - val_acc: 0.8360\n",
      "Epoch 41/120\n",
      "313/313 [==============================] - 3s 8ms/step - loss: 0.3751 - acc: 0.8622 - val_loss: 0.4052 - val_acc: 0.8460\n",
      "Epoch 42/120\n",
      "313/313 [==============================] - 3s 9ms/step - loss: 0.3577 - acc: 0.8668 - val_loss: 0.3974 - val_acc: 0.8500\n",
      "Epoch 43/120\n",
      "313/313 [==============================] - 3s 9ms/step - loss: 0.3501 - acc: 0.8651 - val_loss: 0.3998 - val_acc: 0.8440\n",
      "Epoch 44/120\n",
      "313/313 [==============================] - 3s 9ms/step - loss: 0.3487 - acc: 0.8702 - val_loss: 0.3883 - val_acc: 0.8560\n",
      "Epoch 45/120\n",
      "313/313 [==============================] - 3s 9ms/step - loss: 0.3305 - acc: 0.8761 - val_loss: 0.3891 - val_acc: 0.8470\n",
      "Epoch 46/120\n",
      "313/313 [==============================] - 3s 9ms/step - loss: 0.3239 - acc: 0.8774 - val_loss: 0.3857 - val_acc: 0.8540\n",
      "Epoch 47/120\n",
      "313/313 [==============================] - 3s 9ms/step - loss: 0.3193 - acc: 0.8805 - val_loss: 0.3881 - val_acc: 0.8640\n",
      "Epoch 48/120\n",
      "313/313 [==============================] - 3s 9ms/step - loss: 0.3129 - acc: 0.8814 - val_loss: 0.3884 - val_acc: 0.8650\n",
      "Epoch 49/120\n",
      "313/313 [==============================] - 3s 9ms/step - loss: 0.3021 - acc: 0.8899 - val_loss: 0.3867 - val_acc: 0.8490\n",
      "Epoch 50/120\n",
      "313/313 [==============================] - 3s 9ms/step - loss: 0.2928 - acc: 0.8909 - val_loss: 0.3773 - val_acc: 0.8600\n",
      "Epoch 51/120\n",
      "313/313 [==============================] - 3s 9ms/step - loss: 0.2845 - acc: 0.8931 - val_loss: 0.3696 - val_acc: 0.8580\n",
      "Epoch 52/120\n",
      "313/313 [==============================] - 3s 9ms/step - loss: 0.2756 - acc: 0.8977 - val_loss: 0.3765 - val_acc: 0.8580\n",
      "Epoch 53/120\n",
      "313/313 [==============================] - 3s 9ms/step - loss: 0.2783 - acc: 0.8937 - val_loss: 0.3590 - val_acc: 0.8720\n",
      "Epoch 54/120\n",
      "313/313 [==============================] - 3s 9ms/step - loss: 0.2630 - acc: 0.9014 - val_loss: 0.3533 - val_acc: 0.8660\n",
      "Epoch 55/120\n",
      "313/313 [==============================] - 3s 8ms/step - loss: 0.2529 - acc: 0.9062 - val_loss: 0.3703 - val_acc: 0.8600\n",
      "Epoch 56/120\n",
      "313/313 [==============================] - 3s 8ms/step - loss: 0.2545 - acc: 0.9035 - val_loss: 0.3647 - val_acc: 0.8750\n",
      "Epoch 57/120\n",
      "313/313 [==============================] - 3s 8ms/step - loss: 0.2402 - acc: 0.9105 - val_loss: 0.3691 - val_acc: 0.8710\n",
      "Epoch 58/120\n",
      "313/313 [==============================] - 2s 8ms/step - loss: 0.2289 - acc: 0.9172 - val_loss: 0.3421 - val_acc: 0.8750\n",
      "Epoch 59/120\n",
      "313/313 [==============================] - 2s 8ms/step - loss: 0.2294 - acc: 0.9162 - val_loss: 0.3478 - val_acc: 0.8800\n",
      "Epoch 60/120\n",
      "313/313 [==============================] - 2s 8ms/step - loss: 0.2266 - acc: 0.9162 - val_loss: 0.3459 - val_acc: 0.8820\n",
      "Epoch 61/120\n",
      "313/313 [==============================] - 2s 8ms/step - loss: 0.2185 - acc: 0.9222 - val_loss: 0.3467 - val_acc: 0.8760\n",
      "Epoch 62/120\n",
      "313/313 [==============================] - 3s 8ms/step - loss: 0.2043 - acc: 0.9268 - val_loss: 0.3349 - val_acc: 0.8930\n",
      "Epoch 63/120\n",
      "313/313 [==============================] - 2s 8ms/step - loss: 0.2020 - acc: 0.9247 - val_loss: 0.3226 - val_acc: 0.8910\n",
      "Epoch 64/120\n",
      "313/313 [==============================] - 3s 8ms/step - loss: 0.1929 - acc: 0.9309 - val_loss: 0.3284 - val_acc: 0.8940\n",
      "Epoch 65/120\n",
      "313/313 [==============================] - 3s 8ms/step - loss: 0.1905 - acc: 0.9326 - val_loss: 0.3241 - val_acc: 0.8960\n",
      "Epoch 66/120\n",
      "313/313 [==============================] - 3s 8ms/step - loss: 0.1868 - acc: 0.9333 - val_loss: 0.3118 - val_acc: 0.9010\n",
      "Epoch 67/120\n",
      "313/313 [==============================] - 3s 8ms/step - loss: 0.1741 - acc: 0.9370 - val_loss: 0.3135 - val_acc: 0.8970\n",
      "Epoch 68/120\n",
      "313/313 [==============================] - 3s 8ms/step - loss: 0.1764 - acc: 0.9408 - val_loss: 0.3062 - val_acc: 0.9050\n",
      "Epoch 69/120\n",
      "313/313 [==============================] - 3s 9ms/step - loss: 0.1698 - acc: 0.9404 - val_loss: 0.3084 - val_acc: 0.9010\n",
      "Epoch 70/120\n",
      "313/313 [==============================] - 3s 8ms/step - loss: 0.1624 - acc: 0.9433 - val_loss: 0.2894 - val_acc: 0.9100\n",
      "Epoch 71/120\n",
      "313/313 [==============================] - 3s 9ms/step - loss: 0.1567 - acc: 0.9444 - val_loss: 0.2914 - val_acc: 0.9110\n",
      "Epoch 72/120\n",
      "313/313 [==============================] - 3s 9ms/step - loss: 0.1471 - acc: 0.9489 - val_loss: 0.3360 - val_acc: 0.9020\n",
      "Epoch 73/120\n",
      "313/313 [==============================] - 3s 9ms/step - loss: 0.1458 - acc: 0.9479 - val_loss: 0.2777 - val_acc: 0.9140\n",
      "Epoch 74/120\n",
      "313/313 [==============================] - 3s 9ms/step - loss: 0.1435 - acc: 0.9489 - val_loss: 0.2747 - val_acc: 0.9110\n",
      "Epoch 75/120\n",
      "313/313 [==============================] - 3s 9ms/step - loss: 0.1434 - acc: 0.9500 - val_loss: 0.2777 - val_acc: 0.9120\n",
      "Epoch 76/120\n",
      "313/313 [==============================] - 3s 9ms/step - loss: 0.1366 - acc: 0.9519 - val_loss: 0.2857 - val_acc: 0.9150\n",
      "Epoch 77/120\n",
      "313/313 [==============================] - 3s 9ms/step - loss: 0.1360 - acc: 0.9537 - val_loss: 0.2602 - val_acc: 0.9160\n",
      "Epoch 78/120\n",
      "313/313 [==============================] - 3s 9ms/step - loss: 0.1269 - acc: 0.9576 - val_loss: 0.2597 - val_acc: 0.9130\n",
      "Epoch 79/120\n",
      "313/313 [==============================] - 3s 9ms/step - loss: 0.1275 - acc: 0.9541 - val_loss: 0.2658 - val_acc: 0.9160\n",
      "Epoch 80/120\n",
      "313/313 [==============================] - 3s 9ms/step - loss: 0.1169 - acc: 0.9621 - val_loss: 0.2755 - val_acc: 0.9100\n",
      "Epoch 81/120\n",
      "313/313 [==============================] - 3s 9ms/step - loss: 0.1164 - acc: 0.9595 - val_loss: 0.2702 - val_acc: 0.9130\n",
      "Epoch 82/120\n",
      "313/313 [==============================] - 3s 8ms/step - loss: 0.1102 - acc: 0.9625 - val_loss: 0.2796 - val_acc: 0.9100\n",
      "Epoch 83/120\n",
      "313/313 [==============================] - 3s 9ms/step - loss: 0.1064 - acc: 0.9634 - val_loss: 0.2707 - val_acc: 0.9180\n",
      "Epoch 84/120\n",
      "313/313 [==============================] - 3s 8ms/step - loss: 0.1025 - acc: 0.9625 - val_loss: 0.2672 - val_acc: 0.9140\n",
      "Epoch 85/120\n",
      "313/313 [==============================] - 3s 8ms/step - loss: 0.1025 - acc: 0.9627 - val_loss: 0.2563 - val_acc: 0.9290\n",
      "Epoch 86/120\n",
      "313/313 [==============================] - 3s 8ms/step - loss: 0.1108 - acc: 0.9618 - val_loss: 0.2547 - val_acc: 0.9210\n",
      "Epoch 87/120\n",
      "313/313 [==============================] - 3s 8ms/step - loss: 0.0950 - acc: 0.9689 - val_loss: 0.2569 - val_acc: 0.9230\n",
      "Epoch 88/120\n",
      "313/313 [==============================] - 3s 8ms/step - loss: 0.0964 - acc: 0.9666 - val_loss: 0.2667 - val_acc: 0.9220\n",
      "Epoch 89/120\n",
      "313/313 [==============================] - 3s 8ms/step - loss: 0.0947 - acc: 0.9673 - val_loss: 0.2601 - val_acc: 0.9190\n",
      "Epoch 90/120\n",
      "313/313 [==============================] - 3s 8ms/step - loss: 0.0911 - acc: 0.9683 - val_loss: 0.2439 - val_acc: 0.9300\n",
      "Epoch 91/120\n",
      "313/313 [==============================] - 3s 9ms/step - loss: 0.0856 - acc: 0.9680 - val_loss: 0.2492 - val_acc: 0.9320\n",
      "Epoch 92/120\n",
      "313/313 [==============================] - 3s 9ms/step - loss: 0.0896 - acc: 0.9700 - val_loss: 0.2501 - val_acc: 0.9250\n",
      "Epoch 93/120\n",
      "313/313 [==============================] - 3s 9ms/step - loss: 0.0817 - acc: 0.9726 - val_loss: 0.2762 - val_acc: 0.9180\n",
      "Epoch 94/120\n",
      "313/313 [==============================] - 3s 9ms/step - loss: 0.0812 - acc: 0.9721 - val_loss: 0.2674 - val_acc: 0.9220\n",
      "Epoch 95/120\n",
      "313/313 [==============================] - 3s 9ms/step - loss: 0.0784 - acc: 0.9731 - val_loss: 0.2528 - val_acc: 0.9320\n",
      "Epoch 96/120\n",
      "313/313 [==============================] - 3s 8ms/step - loss: 0.0802 - acc: 0.9726 - val_loss: 0.2345 - val_acc: 0.9290\n",
      "Epoch 97/120\n",
      "313/313 [==============================] - 3s 9ms/step - loss: 0.0746 - acc: 0.9747 - val_loss: 0.2562 - val_acc: 0.9220\n",
      "Epoch 98/120\n",
      "313/313 [==============================] - 3s 9ms/step - loss: 0.0742 - acc: 0.9740 - val_loss: 0.2373 - val_acc: 0.9350\n",
      "Epoch 99/120\n",
      "313/313 [==============================] - 3s 9ms/step - loss: 0.0691 - acc: 0.9758 - val_loss: 0.2454 - val_acc: 0.9300\n",
      "Epoch 100/120\n",
      "313/313 [==============================] - 3s 9ms/step - loss: 0.0729 - acc: 0.9748 - val_loss: 0.3014 - val_acc: 0.9100\n",
      "Epoch 101/120\n",
      "313/313 [==============================] - 3s 9ms/step - loss: 0.0737 - acc: 0.9741 - val_loss: 0.2413 - val_acc: 0.9400\n",
      "Epoch 102/120\n",
      "313/313 [==============================] - 3s 8ms/step - loss: 0.0607 - acc: 0.9786 - val_loss: 0.2505 - val_acc: 0.9250\n",
      "Epoch 103/120\n",
      "313/313 [==============================] - 3s 8ms/step - loss: 0.0632 - acc: 0.9774 - val_loss: 0.2400 - val_acc: 0.9350\n",
      "Epoch 104/120\n",
      "313/313 [==============================] - 2s 8ms/step - loss: 0.0633 - acc: 0.9780 - val_loss: 0.2754 - val_acc: 0.9290\n",
      "Epoch 105/120\n",
      "313/313 [==============================] - 2s 8ms/step - loss: 0.0642 - acc: 0.9773 - val_loss: 0.2495 - val_acc: 0.9280\n",
      "Epoch 106/120\n",
      "313/313 [==============================] - 2s 8ms/step - loss: 0.0617 - acc: 0.9774 - val_loss: 0.2616 - val_acc: 0.9340\n",
      "Epoch 107/120\n",
      "313/313 [==============================] - 2s 8ms/step - loss: 0.0574 - acc: 0.9791 - val_loss: 0.2502 - val_acc: 0.9330\n",
      "Epoch 108/120\n",
      "313/313 [==============================] - 2s 8ms/step - loss: 0.0594 - acc: 0.9808 - val_loss: 0.2405 - val_acc: 0.9360\n",
      "Epoch 109/120\n",
      "313/313 [==============================] - 2s 8ms/step - loss: 0.0596 - acc: 0.9808 - val_loss: 0.2441 - val_acc: 0.9360\n",
      "Epoch 110/120\n",
      "313/313 [==============================] - 2s 8ms/step - loss: 0.0542 - acc: 0.9810 - val_loss: 0.2448 - val_acc: 0.9320\n",
      "Epoch 111/120\n",
      "313/313 [==============================] - 2s 8ms/step - loss: 0.0553 - acc: 0.9826 - val_loss: 0.2275 - val_acc: 0.9410\n",
      "Epoch 112/120\n",
      "313/313 [==============================] - 3s 8ms/step - loss: 0.0565 - acc: 0.9805 - val_loss: 0.2414 - val_acc: 0.9360\n",
      "Epoch 113/120\n",
      "313/313 [==============================] - 2s 8ms/step - loss: 0.0461 - acc: 0.9843 - val_loss: 0.2362 - val_acc: 0.9390\n",
      "Epoch 114/120\n",
      "313/313 [==============================] - 3s 8ms/step - loss: 0.0560 - acc: 0.9801 - val_loss: 0.2320 - val_acc: 0.9400\n",
      "Epoch 115/120\n",
      "313/313 [==============================] - 3s 8ms/step - loss: 0.0506 - acc: 0.9823 - val_loss: 0.2282 - val_acc: 0.9340\n",
      "Epoch 116/120\n",
      "313/313 [==============================] - 3s 8ms/step - loss: 0.0508 - acc: 0.9840 - val_loss: 0.2403 - val_acc: 0.9350\n",
      "Epoch 117/120\n",
      "313/313 [==============================] - 3s 8ms/step - loss: 0.0529 - acc: 0.9826 - val_loss: 0.2508 - val_acc: 0.9280\n",
      "Epoch 118/120\n",
      "313/313 [==============================] - 3s 9ms/step - loss: 0.0475 - acc: 0.9838 - val_loss: 0.2415 - val_acc: 0.9320\n",
      "Epoch 119/120\n",
      "313/313 [==============================] - 3s 8ms/step - loss: 0.0494 - acc: 0.9829 - val_loss: 0.2617 - val_acc: 0.9290\n",
      "Epoch 120/120\n",
      "313/313 [==============================] - 3s 9ms/step - loss: 0.0437 - acc: 0.9856 - val_loss: 0.2494 - val_acc: 0.9400\n",
      "C:\\Users\\shlee\\anaconda3\\envs\\develop\\lib\\site-packages\\tensorflow\\python\\keras\\utils\\generic_utils.py:497: CustomMaskWarning: Custom mask layers require a config and must override get_config. When loading, the custom mask layer must be passed to the custom_objects argument.\n",
      "  category=CustomMaskWarning)\n"
     ]
    }
   ],
   "source": [
    "# build the final model\n",
    "model = Model([input_sequence, question], answer)\n",
    "model.compile(optimizer='rmsprop', loss='categorical_crossentropy',\n",
    "              metrics=['acc'])\n",
    "\n",
    "print(model.summary())\n",
    "\n",
    "# start training the model\n",
    "history = model.fit([Xstrain, Xqtrain],\n",
    "         Ytrain, batch_size, train_epochs,\n",
    "         validation_data=([Xstest, Xqtest], Ytest))\n",
    "\n",
    "# save model\n",
    "model.save('model.h5')"
   ]
  },
  {
   "cell_type": "code",
   "execution_count": 25,
   "metadata": {},
   "outputs": [
    {
     "output_type": "stream",
     "name": "stdout",
     "text": [
      "32/32 [==============================] - 0s 4ms/step - loss: 0.2494 - acc: 0.9400\n",
      "\n",
      " 테스트 정확도: 94.00%\n"
     ]
    }
   ],
   "source": [
    "print(\"\\n 테스트 정확도: %.2f%%\" % (model.evaluate([Xstest, Xqtest], Ytest)[1]*100))"
   ]
  },
  {
   "cell_type": "code",
   "execution_count": 26,
   "metadata": {},
   "outputs": [
    {
     "output_type": "display_data",
     "data": {
      "text/plain": "<Figure size 432x288 with 2 Axes>",
      "image/svg+xml": "<?xml version=\"1.0\" encoding=\"utf-8\" standalone=\"no\"?>\r\n<!DOCTYPE svg PUBLIC \"-//W3C//DTD SVG 1.1//EN\"\r\n  \"http://www.w3.org/Graphics/SVG/1.1/DTD/svg11.dtd\">\r\n<!-- Created with matplotlib (https://matplotlib.org/) -->\r\n<svg height=\"279.59625pt\" version=\"1.1\" viewBox=\"0 0 424.815625 279.59625\" width=\"424.815625pt\" xmlns=\"http://www.w3.org/2000/svg\" xmlns:xlink=\"http://www.w3.org/1999/xlink\">\r\n <metadata>\r\n  <rdf:RDF xmlns:cc=\"http://creativecommons.org/ns#\" xmlns:dc=\"http://purl.org/dc/elements/1.1/\" xmlns:rdf=\"http://www.w3.org/1999/02/22-rdf-syntax-ns#\">\r\n   <cc:Work>\r\n    <dc:type rdf:resource=\"http://purl.org/dc/dcmitype/StillImage\"/>\r\n    <dc:date>2021-06-24T22:44:06.884039</dc:date>\r\n    <dc:format>image/svg+xml</dc:format>\r\n    <dc:creator>\r\n     <cc:Agent>\r\n      <dc:title>Matplotlib v3.3.4, https://matplotlib.org/</dc:title>\r\n     </cc:Agent>\r\n    </dc:creator>\r\n   </cc:Work>\r\n  </rdf:RDF>\r\n </metadata>\r\n <defs>\r\n  <style type=\"text/css\">*{stroke-linecap:butt;stroke-linejoin:round;}</style>\r\n </defs>\r\n <g id=\"figure_1\">\r\n  <g id=\"patch_1\">\r\n   <path d=\"M -0 279.59625 \r\nL 424.815625 279.59625 \r\nL 424.815625 0 \r\nL -0 0 \r\nz\r\n\" style=\"fill:none;\"/>\r\n  </g>\r\n  <g id=\"axes_1\">\r\n   <g id=\"patch_2\">\r\n    <path d=\"M 36.465625 117.118125 \r\nL 417.615625 117.118125 \r\nL 417.615625 22.318125 \r\nL 36.465625 22.318125 \r\nz\r\n\" style=\"fill:#ffffff;\"/>\r\n   </g>\r\n   <g id=\"matplotlib.axis_1\">\r\n    <g id=\"xtick_1\">\r\n     <g id=\"line2d_1\">\r\n      <defs>\r\n       <path d=\"M 0 0 \r\nL 0 3.5 \r\n\" id=\"m1a5424316d\" style=\"stroke:#000000;stroke-width:0.8;\"/>\r\n      </defs>\r\n      <g>\r\n       <use style=\"stroke:#000000;stroke-width:0.8;\" x=\"53.790625\" xlink:href=\"#m1a5424316d\" y=\"117.118125\"/>\r\n      </g>\r\n     </g>\r\n     <g id=\"text_1\">\r\n      <!-- 0 -->\r\n      <g transform=\"translate(50.609375 131.716563)scale(0.1 -0.1)\">\r\n       <defs>\r\n        <path d=\"M 31.78125 66.40625 \r\nQ 24.171875 66.40625 20.328125 58.90625 \r\nQ 16.5 51.421875 16.5 36.375 \r\nQ 16.5 21.390625 20.328125 13.890625 \r\nQ 24.171875 6.390625 31.78125 6.390625 \r\nQ 39.453125 6.390625 43.28125 13.890625 \r\nQ 47.125 21.390625 47.125 36.375 \r\nQ 47.125 51.421875 43.28125 58.90625 \r\nQ 39.453125 66.40625 31.78125 66.40625 \r\nz\r\nM 31.78125 74.21875 \r\nQ 44.046875 74.21875 50.515625 64.515625 \r\nQ 56.984375 54.828125 56.984375 36.375 \r\nQ 56.984375 17.96875 50.515625 8.265625 \r\nQ 44.046875 -1.421875 31.78125 -1.421875 \r\nQ 19.53125 -1.421875 13.0625 8.265625 \r\nQ 6.59375 17.96875 6.59375 36.375 \r\nQ 6.59375 54.828125 13.0625 64.515625 \r\nQ 19.53125 74.21875 31.78125 74.21875 \r\nz\r\n\" id=\"DejaVuSans-48\"/>\r\n       </defs>\r\n       <use xlink:href=\"#DejaVuSans-48\"/>\r\n      </g>\r\n     </g>\r\n    </g>\r\n    <g id=\"xtick_2\">\r\n     <g id=\"line2d_2\">\r\n      <g>\r\n       <use style=\"stroke:#000000;stroke-width:0.8;\" x=\"112.025919\" xlink:href=\"#m1a5424316d\" y=\"117.118125\"/>\r\n      </g>\r\n     </g>\r\n     <g id=\"text_2\">\r\n      <!-- 20 -->\r\n      <g transform=\"translate(105.663419 131.716563)scale(0.1 -0.1)\">\r\n       <defs>\r\n        <path d=\"M 19.1875 8.296875 \r\nL 53.609375 8.296875 \r\nL 53.609375 0 \r\nL 7.328125 0 \r\nL 7.328125 8.296875 \r\nQ 12.9375 14.109375 22.625 23.890625 \r\nQ 32.328125 33.6875 34.8125 36.53125 \r\nQ 39.546875 41.84375 41.421875 45.53125 \r\nQ 43.3125 49.21875 43.3125 52.78125 \r\nQ 43.3125 58.59375 39.234375 62.25 \r\nQ 35.15625 65.921875 28.609375 65.921875 \r\nQ 23.96875 65.921875 18.8125 64.3125 \r\nQ 13.671875 62.703125 7.8125 59.421875 \r\nL 7.8125 69.390625 \r\nQ 13.765625 71.78125 18.9375 73 \r\nQ 24.125 74.21875 28.421875 74.21875 \r\nQ 39.75 74.21875 46.484375 68.546875 \r\nQ 53.21875 62.890625 53.21875 53.421875 \r\nQ 53.21875 48.921875 51.53125 44.890625 \r\nQ 49.859375 40.875 45.40625 35.40625 \r\nQ 44.1875 33.984375 37.640625 27.21875 \r\nQ 31.109375 20.453125 19.1875 8.296875 \r\nz\r\n\" id=\"DejaVuSans-50\"/>\r\n       </defs>\r\n       <use xlink:href=\"#DejaVuSans-50\"/>\r\n       <use x=\"63.623047\" xlink:href=\"#DejaVuSans-48\"/>\r\n      </g>\r\n     </g>\r\n    </g>\r\n    <g id=\"xtick_3\">\r\n     <g id=\"line2d_3\">\r\n      <g>\r\n       <use style=\"stroke:#000000;stroke-width:0.8;\" x=\"170.261213\" xlink:href=\"#m1a5424316d\" y=\"117.118125\"/>\r\n      </g>\r\n     </g>\r\n     <g id=\"text_3\">\r\n      <!-- 40 -->\r\n      <g transform=\"translate(163.898713 131.716563)scale(0.1 -0.1)\">\r\n       <defs>\r\n        <path d=\"M 37.796875 64.3125 \r\nL 12.890625 25.390625 \r\nL 37.796875 25.390625 \r\nz\r\nM 35.203125 72.90625 \r\nL 47.609375 72.90625 \r\nL 47.609375 25.390625 \r\nL 58.015625 25.390625 \r\nL 58.015625 17.1875 \r\nL 47.609375 17.1875 \r\nL 47.609375 0 \r\nL 37.796875 0 \r\nL 37.796875 17.1875 \r\nL 4.890625 17.1875 \r\nL 4.890625 26.703125 \r\nz\r\n\" id=\"DejaVuSans-52\"/>\r\n       </defs>\r\n       <use xlink:href=\"#DejaVuSans-52\"/>\r\n       <use x=\"63.623047\" xlink:href=\"#DejaVuSans-48\"/>\r\n      </g>\r\n     </g>\r\n    </g>\r\n    <g id=\"xtick_4\">\r\n     <g id=\"line2d_4\">\r\n      <g>\r\n       <use style=\"stroke:#000000;stroke-width:0.8;\" x=\"228.496507\" xlink:href=\"#m1a5424316d\" y=\"117.118125\"/>\r\n      </g>\r\n     </g>\r\n     <g id=\"text_4\">\r\n      <!-- 60 -->\r\n      <g transform=\"translate(222.134007 131.716563)scale(0.1 -0.1)\">\r\n       <defs>\r\n        <path d=\"M 33.015625 40.375 \r\nQ 26.375 40.375 22.484375 35.828125 \r\nQ 18.609375 31.296875 18.609375 23.390625 \r\nQ 18.609375 15.53125 22.484375 10.953125 \r\nQ 26.375 6.390625 33.015625 6.390625 \r\nQ 39.65625 6.390625 43.53125 10.953125 \r\nQ 47.40625 15.53125 47.40625 23.390625 \r\nQ 47.40625 31.296875 43.53125 35.828125 \r\nQ 39.65625 40.375 33.015625 40.375 \r\nz\r\nM 52.59375 71.296875 \r\nL 52.59375 62.3125 \r\nQ 48.875 64.0625 45.09375 64.984375 \r\nQ 41.3125 65.921875 37.59375 65.921875 \r\nQ 27.828125 65.921875 22.671875 59.328125 \r\nQ 17.53125 52.734375 16.796875 39.40625 \r\nQ 19.671875 43.65625 24.015625 45.921875 \r\nQ 28.375 48.1875 33.59375 48.1875 \r\nQ 44.578125 48.1875 50.953125 41.515625 \r\nQ 57.328125 34.859375 57.328125 23.390625 \r\nQ 57.328125 12.15625 50.6875 5.359375 \r\nQ 44.046875 -1.421875 33.015625 -1.421875 \r\nQ 20.359375 -1.421875 13.671875 8.265625 \r\nQ 6.984375 17.96875 6.984375 36.375 \r\nQ 6.984375 53.65625 15.1875 63.9375 \r\nQ 23.390625 74.21875 37.203125 74.21875 \r\nQ 40.921875 74.21875 44.703125 73.484375 \r\nQ 48.484375 72.75 52.59375 71.296875 \r\nz\r\n\" id=\"DejaVuSans-54\"/>\r\n       </defs>\r\n       <use xlink:href=\"#DejaVuSans-54\"/>\r\n       <use x=\"63.623047\" xlink:href=\"#DejaVuSans-48\"/>\r\n      </g>\r\n     </g>\r\n    </g>\r\n    <g id=\"xtick_5\">\r\n     <g id=\"line2d_5\">\r\n      <g>\r\n       <use style=\"stroke:#000000;stroke-width:0.8;\" x=\"286.731801\" xlink:href=\"#m1a5424316d\" y=\"117.118125\"/>\r\n      </g>\r\n     </g>\r\n     <g id=\"text_5\">\r\n      <!-- 80 -->\r\n      <g transform=\"translate(280.369301 131.716563)scale(0.1 -0.1)\">\r\n       <defs>\r\n        <path d=\"M 31.78125 34.625 \r\nQ 24.75 34.625 20.71875 30.859375 \r\nQ 16.703125 27.09375 16.703125 20.515625 \r\nQ 16.703125 13.921875 20.71875 10.15625 \r\nQ 24.75 6.390625 31.78125 6.390625 \r\nQ 38.8125 6.390625 42.859375 10.171875 \r\nQ 46.921875 13.96875 46.921875 20.515625 \r\nQ 46.921875 27.09375 42.890625 30.859375 \r\nQ 38.875 34.625 31.78125 34.625 \r\nz\r\nM 21.921875 38.8125 \r\nQ 15.578125 40.375 12.03125 44.71875 \r\nQ 8.5 49.078125 8.5 55.328125 \r\nQ 8.5 64.0625 14.71875 69.140625 \r\nQ 20.953125 74.21875 31.78125 74.21875 \r\nQ 42.671875 74.21875 48.875 69.140625 \r\nQ 55.078125 64.0625 55.078125 55.328125 \r\nQ 55.078125 49.078125 51.53125 44.71875 \r\nQ 48 40.375 41.703125 38.8125 \r\nQ 48.828125 37.15625 52.796875 32.3125 \r\nQ 56.78125 27.484375 56.78125 20.515625 \r\nQ 56.78125 9.90625 50.3125 4.234375 \r\nQ 43.84375 -1.421875 31.78125 -1.421875 \r\nQ 19.734375 -1.421875 13.25 4.234375 \r\nQ 6.78125 9.90625 6.78125 20.515625 \r\nQ 6.78125 27.484375 10.78125 32.3125 \r\nQ 14.796875 37.15625 21.921875 38.8125 \r\nz\r\nM 18.3125 54.390625 \r\nQ 18.3125 48.734375 21.84375 45.5625 \r\nQ 25.390625 42.390625 31.78125 42.390625 \r\nQ 38.140625 42.390625 41.71875 45.5625 \r\nQ 45.3125 48.734375 45.3125 54.390625 \r\nQ 45.3125 60.0625 41.71875 63.234375 \r\nQ 38.140625 66.40625 31.78125 66.40625 \r\nQ 25.390625 66.40625 21.84375 63.234375 \r\nQ 18.3125 60.0625 18.3125 54.390625 \r\nz\r\n\" id=\"DejaVuSans-56\"/>\r\n       </defs>\r\n       <use xlink:href=\"#DejaVuSans-56\"/>\r\n       <use x=\"63.623047\" xlink:href=\"#DejaVuSans-48\"/>\r\n      </g>\r\n     </g>\r\n    </g>\r\n    <g id=\"xtick_6\">\r\n     <g id=\"line2d_6\">\r\n      <g>\r\n       <use style=\"stroke:#000000;stroke-width:0.8;\" x=\"344.967096\" xlink:href=\"#m1a5424316d\" y=\"117.118125\"/>\r\n      </g>\r\n     </g>\r\n     <g id=\"text_6\">\r\n      <!-- 100 -->\r\n      <g transform=\"translate(335.423346 131.716563)scale(0.1 -0.1)\">\r\n       <defs>\r\n        <path d=\"M 12.40625 8.296875 \r\nL 28.515625 8.296875 \r\nL 28.515625 63.921875 \r\nL 10.984375 60.40625 \r\nL 10.984375 69.390625 \r\nL 28.421875 72.90625 \r\nL 38.28125 72.90625 \r\nL 38.28125 8.296875 \r\nL 54.390625 8.296875 \r\nL 54.390625 0 \r\nL 12.40625 0 \r\nz\r\n\" id=\"DejaVuSans-49\"/>\r\n       </defs>\r\n       <use xlink:href=\"#DejaVuSans-49\"/>\r\n       <use x=\"63.623047\" xlink:href=\"#DejaVuSans-48\"/>\r\n       <use x=\"127.246094\" xlink:href=\"#DejaVuSans-48\"/>\r\n      </g>\r\n     </g>\r\n    </g>\r\n    <g id=\"xtick_7\">\r\n     <g id=\"line2d_7\">\r\n      <g>\r\n       <use style=\"stroke:#000000;stroke-width:0.8;\" x=\"403.20239\" xlink:href=\"#m1a5424316d\" y=\"117.118125\"/>\r\n      </g>\r\n     </g>\r\n     <g id=\"text_7\">\r\n      <!-- 120 -->\r\n      <g transform=\"translate(393.65864 131.716563)scale(0.1 -0.1)\">\r\n       <use xlink:href=\"#DejaVuSans-49\"/>\r\n       <use x=\"63.623047\" xlink:href=\"#DejaVuSans-50\"/>\r\n       <use x=\"127.246094\" xlink:href=\"#DejaVuSans-48\"/>\r\n      </g>\r\n     </g>\r\n    </g>\r\n   </g>\r\n   <g id=\"matplotlib.axis_2\">\r\n    <g id=\"ytick_1\">\r\n     <g id=\"line2d_8\">\r\n      <defs>\r\n       <path d=\"M 0 0 \r\nL -3.5 0 \r\n\" id=\"m5d6619afe1\" style=\"stroke:#000000;stroke-width:0.8;\"/>\r\n      </defs>\r\n      <g>\r\n       <use style=\"stroke:#000000;stroke-width:0.8;\" x=\"36.465625\" xlink:href=\"#m5d6619afe1\" y=\"103.136202\"/>\r\n      </g>\r\n     </g>\r\n     <g id=\"text_8\">\r\n      <!-- 0.25 -->\r\n      <g transform=\"translate(7.2 106.935421)scale(0.1 -0.1)\">\r\n       <defs>\r\n        <path d=\"M 10.6875 12.40625 \r\nL 21 12.40625 \r\nL 21 0 \r\nL 10.6875 0 \r\nz\r\n\" id=\"DejaVuSans-46\"/>\r\n        <path d=\"M 10.796875 72.90625 \r\nL 49.515625 72.90625 \r\nL 49.515625 64.59375 \r\nL 19.828125 64.59375 \r\nL 19.828125 46.734375 \r\nQ 21.96875 47.46875 24.109375 47.828125 \r\nQ 26.265625 48.1875 28.421875 48.1875 \r\nQ 40.625 48.1875 47.75 41.5 \r\nQ 54.890625 34.8125 54.890625 23.390625 \r\nQ 54.890625 11.625 47.5625 5.09375 \r\nQ 40.234375 -1.421875 26.90625 -1.421875 \r\nQ 22.3125 -1.421875 17.546875 -0.640625 \r\nQ 12.796875 0.140625 7.71875 1.703125 \r\nL 7.71875 11.625 \r\nQ 12.109375 9.234375 16.796875 8.0625 \r\nQ 21.484375 6.890625 26.703125 6.890625 \r\nQ 35.15625 6.890625 40.078125 11.328125 \r\nQ 45.015625 15.765625 45.015625 23.390625 \r\nQ 45.015625 31 40.078125 35.4375 \r\nQ 35.15625 39.890625 26.703125 39.890625 \r\nQ 22.75 39.890625 18.8125 39.015625 \r\nQ 14.890625 38.140625 10.796875 36.28125 \r\nz\r\n\" id=\"DejaVuSans-53\"/>\r\n       </defs>\r\n       <use xlink:href=\"#DejaVuSans-48\"/>\r\n       <use x=\"63.623047\" xlink:href=\"#DejaVuSans-46\"/>\r\n       <use x=\"95.410156\" xlink:href=\"#DejaVuSans-50\"/>\r\n       <use x=\"159.033203\" xlink:href=\"#DejaVuSans-53\"/>\r\n      </g>\r\n     </g>\r\n    </g>\r\n    <g id=\"ytick_2\">\r\n     <g id=\"line2d_9\">\r\n      <g>\r\n       <use style=\"stroke:#000000;stroke-width:0.8;\" x=\"36.465625\" xlink:href=\"#m5d6619afe1\" y=\"77.133963\"/>\r\n      </g>\r\n     </g>\r\n     <g id=\"text_9\">\r\n      <!-- 0.50 -->\r\n      <g transform=\"translate(7.2 80.933182)scale(0.1 -0.1)\">\r\n       <use xlink:href=\"#DejaVuSans-48\"/>\r\n       <use x=\"63.623047\" xlink:href=\"#DejaVuSans-46\"/>\r\n       <use x=\"95.410156\" xlink:href=\"#DejaVuSans-53\"/>\r\n       <use x=\"159.033203\" xlink:href=\"#DejaVuSans-48\"/>\r\n      </g>\r\n     </g>\r\n    </g>\r\n    <g id=\"ytick_3\">\r\n     <g id=\"line2d_10\">\r\n      <g>\r\n       <use style=\"stroke:#000000;stroke-width:0.8;\" x=\"36.465625\" xlink:href=\"#m5d6619afe1\" y=\"51.131725\"/>\r\n      </g>\r\n     </g>\r\n     <g id=\"text_10\">\r\n      <!-- 0.75 -->\r\n      <g transform=\"translate(7.2 54.930944)scale(0.1 -0.1)\">\r\n       <defs>\r\n        <path d=\"M 8.203125 72.90625 \r\nL 55.078125 72.90625 \r\nL 55.078125 68.703125 \r\nL 28.609375 0 \r\nL 18.3125 0 \r\nL 43.21875 64.59375 \r\nL 8.203125 64.59375 \r\nz\r\n\" id=\"DejaVuSans-55\"/>\r\n       </defs>\r\n       <use xlink:href=\"#DejaVuSans-48\"/>\r\n       <use x=\"63.623047\" xlink:href=\"#DejaVuSans-46\"/>\r\n       <use x=\"95.410156\" xlink:href=\"#DejaVuSans-55\"/>\r\n       <use x=\"159.033203\" xlink:href=\"#DejaVuSans-53\"/>\r\n      </g>\r\n     </g>\r\n    </g>\r\n    <g id=\"ytick_4\">\r\n     <g id=\"line2d_11\">\r\n      <g>\r\n       <use style=\"stroke:#000000;stroke-width:0.8;\" x=\"36.465625\" xlink:href=\"#m5d6619afe1\" y=\"25.129486\"/>\r\n      </g>\r\n     </g>\r\n     <g id=\"text_11\">\r\n      <!-- 1.00 -->\r\n      <g transform=\"translate(7.2 28.928705)scale(0.1 -0.1)\">\r\n       <use xlink:href=\"#DejaVuSans-49\"/>\r\n       <use x=\"63.623047\" xlink:href=\"#DejaVuSans-46\"/>\r\n       <use x=\"95.410156\" xlink:href=\"#DejaVuSans-48\"/>\r\n       <use x=\"159.033203\" xlink:href=\"#DejaVuSans-48\"/>\r\n      </g>\r\n     </g>\r\n    </g>\r\n   </g>\r\n   <g id=\"line2d_12\">\r\n    <path clip-path=\"url(#p7403b00a64)\" d=\"M 53.790625 111.290504 \r\nL 56.70239 102.803374 \r\nL 59.614154 88.658155 \r\nL 62.525919 84.40419 \r\nL 65.437684 81.710357 \r\nL 68.349449 81.159111 \r\nL 71.261213 79.806994 \r\nL 74.172978 80.171024 \r\nL 77.084743 79.089331 \r\nL 79.996507 78.215656 \r\nL 82.908272 77.123561 \r\nL 85.820037 77.154766 \r\nL 88.731801 76.031472 \r\nL 91.643566 76.239487 \r\nL 94.555331 75.729845 \r\nL 97.467096 75.105787 \r\nL 100.37886 74.98098 \r\nL 103.290625 74.710556 \r\nL 106.20239 72.578372 \r\nL 109.114154 68.958861 \r\nL 112.025919 64.725694 \r\nL 114.937684 60.190908 \r\nL 117.849449 57.528277 \r\nL 120.761213 55.375288 \r\nL 123.672978 53.804752 \r\nL 126.584743 52.130209 \r\nL 129.496507 51.121322 \r\nL 132.408272 49.852413 \r\nL 135.320037 48.801922 \r\nL 138.231801 47.990654 \r\nL 141.143566 47.137782 \r\nL 144.055331 46.056089 \r\nL 146.967096 45.036799 \r\nL 149.87886 43.923905 \r\nL 152.790625 42.956622 \r\nL 155.70239 42.478182 \r\nL 158.614154 41.479692 \r\nL 161.525919 41.427691 \r\nL 164.437684 40.564416 \r\nL 167.349449 40.189984 \r\nL 170.261213 39.461918 \r\nL 173.172978 38.983478 \r\nL 176.084743 39.160292 \r\nL 178.996507 38.629851 \r\nL 181.908272 38.016195 \r\nL 184.820037 37.880986 \r\nL 187.731801 37.558554 \r\nL 190.643566 37.464949 \r\nL 193.555331 36.580869 \r\nL 196.467096 36.476862 \r\nL 199.37886 36.248041 \r\nL 202.290625 35.769601 \r\nL 205.20239 36.185638 \r\nL 208.114154 35.384766 \r\nL 211.025919 34.885527 \r\nL 213.937684 35.166348 \r\nL 216.849449 34.438289 \r\nL 219.761213 33.741425 \r\nL 222.672978 33.845439 \r\nL 225.584743 33.845439 \r\nL 228.496507 33.221381 \r\nL 231.408272 32.742941 \r\nL 234.320037 32.961358 \r\nL 237.231801 32.316507 \r\nL 240.143566 32.139688 \r\nL 243.055331 32.066882 \r\nL 245.967096 31.682053 \r\nL 248.87886 31.286815 \r\nL 251.790625 31.32842 \r\nL 254.70239 31.026793 \r\nL 257.614154 30.912383 \r\nL 260.525919 30.444346 \r\nL 263.437684 30.548353 \r\nL 266.349449 30.444346 \r\nL 269.261213 30.329935 \r\nL 272.172978 30.132317 \r\nL 275.084743 29.9451 \r\nL 277.996507 29.539466 \r\nL 280.908272 29.903496 \r\nL 283.820037 29.071423 \r\nL 286.731801 29.341848 \r\nL 289.643566 29.029825 \r\nL 292.555331 28.936213 \r\nL 295.467096 29.029825 \r\nL 298.37886 29.009019 \r\nL 301.290625 29.102631 \r\nL 304.20239 28.364162 \r\nL 307.114154 28.603385 \r\nL 310.025919 28.530579 \r\nL 312.937684 28.426572 \r\nL 315.849449 28.457773 \r\nL 318.761213 28.249752 \r\nL 321.672978 27.979334 \r\nL 324.584743 28.031334 \r\nL 327.496507 27.927327 \r\nL 330.408272 27.979334 \r\nL 333.320037 27.760916 \r\nL 336.231801 27.833722 \r\nL 339.143566 27.646505 \r\nL 342.055331 27.750513 \r\nL 344.967096 27.823319 \r\nL 347.87886 27.355275 \r\nL 350.790625 27.480088 \r\nL 353.70239 27.417685 \r\nL 356.614154 27.490491 \r\nL 359.525919 27.480088 \r\nL 362.437684 27.303275 \r\nL 365.349449 27.126461 \r\nL 368.261213 27.126461 \r\nL 371.172978 27.105656 \r\nL 374.084743 26.939245 \r\nL 376.996507 27.157663 \r\nL 379.908272 26.762425 \r\nL 382.820037 27.199267 \r\nL 385.731801 26.970447 \r\nL 388.643566 26.793627 \r\nL 391.555331 26.939245 \r\nL 394.467096 26.814432 \r\nL 397.37886 26.908037 \r\nL 400.290625 26.627216 \r\n\" style=\"fill:none;stroke:#008000;stroke-linecap:square;stroke-width:1.5;\"/>\r\n   </g>\r\n   <g id=\"line2d_13\">\r\n    <path clip-path=\"url(#p7403b00a64)\" d=\"M 53.790625 112.809034 \r\nL 56.70239 89.303012 \r\nL 59.614154 83.998556 \r\nL 62.525919 82.646438 \r\nL 65.437684 82.022383 \r\nL 68.349449 81.398331 \r\nL 71.261213 80.150225 \r\nL 74.172978 79.318151 \r\nL 77.084743 78.174052 \r\nL 79.996507 77.029956 \r\nL 82.908272 78.798107 \r\nL 85.820037 74.741757 \r\nL 88.731801 77.133963 \r\nL 91.643566 75.365809 \r\nL 94.555331 76.509912 \r\nL 97.467096 73.805676 \r\nL 100.37886 75.053786 \r\nL 103.290625 73.597661 \r\nL 106.20239 68.605227 \r\nL 109.114154 64.340859 \r\nL 112.025919 59.244424 \r\nL 114.937684 55.084064 \r\nL 117.849449 54.251991 \r\nL 120.761213 51.131725 \r\nL 123.672978 51.651769 \r\nL 126.584743 52.067806 \r\nL 129.496507 49.467584 \r\nL 132.408272 49.571592 \r\nL 135.320037 47.283394 \r\nL 138.231801 46.867357 \r\nL 141.143566 46.555328 \r\nL 144.055331 46.139297 \r\nL 146.967096 44.267136 \r\nL 149.87886 44.683172 \r\nL 152.790625 43.643077 \r\nL 155.70239 42.81101 \r\nL 158.614154 41.458893 \r\nL 161.525919 41.666908 \r\nL 164.437684 42.290966 \r\nL 167.349449 42.186952 \r\nL 170.261213 41.146864 \r\nL 173.172978 40.730827 \r\nL 176.084743 41.354885 \r\nL 178.996507 40.106775 \r\nL 181.908272 41.042856 \r\nL 184.820037 40.314797 \r\nL 187.731801 39.274702 \r\nL 190.643566 39.170694 \r\nL 193.555331 40.834841 \r\nL 196.467096 39.690738 \r\nL 199.37886 39.89876 \r\nL 202.290625 39.89876 \r\nL 205.20239 38.442635 \r\nL 208.114154 39.066687 \r\nL 211.025919 39.690738 \r\nL 213.937684 38.130606 \r\nL 216.849449 38.546642 \r\nL 219.761213 38.130606 \r\nL 222.672978 37.610561 \r\nL 225.584743 37.40254 \r\nL 228.496507 38.026598 \r\nL 231.408272 36.258444 \r\nL 234.320037 36.466465 \r\nL 237.231801 36.154436 \r\nL 240.143566 35.946415 \r\nL 243.055331 35.42637 \r\nL 245.967096 35.842407 \r\nL 248.87886 35.01034 \r\nL 251.790625 35.42637 \r\nL 254.70239 34.49029 \r\nL 257.614154 34.386282 \r\nL 260.525919 35.322363 \r\nL 263.437684 34.074259 \r\nL 266.349449 34.386282 \r\nL 269.261213 34.282274 \r\nL 272.172978 33.970245 \r\nL 275.084743 33.866238 \r\nL 277.996507 34.178267 \r\nL 280.908272 33.866238 \r\nL 283.820037 34.49029 \r\nL 286.731801 34.178267 \r\nL 289.643566 34.49029 \r\nL 292.555331 33.658222 \r\nL 295.467096 34.074259 \r\nL 298.37886 32.51412 \r\nL 301.290625 33.346193 \r\nL 304.20239 33.138178 \r\nL 307.114154 33.242186 \r\nL 310.025919 33.554209 \r\nL 312.937684 32.410112 \r\nL 315.849449 32.202097 \r\nL 318.761213 32.930157 \r\nL 321.672978 33.658222 \r\nL 324.584743 33.242186 \r\nL 327.496507 32.202097 \r\nL 330.408272 32.51412 \r\nL 333.320037 33.242186 \r\nL 336.231801 31.890068 \r\nL 339.143566 32.410112 \r\nL 342.055331 34.49029 \r\nL 344.967096 31.370024 \r\nL 347.87886 32.930157 \r\nL 350.790625 31.890068 \r\nL 353.70239 32.51412 \r\nL 356.614154 32.618134 \r\nL 359.525919 31.994076 \r\nL 362.437684 32.098083 \r\nL 365.349449 31.786061 \r\nL 368.261213 31.786061 \r\nL 371.172978 32.202097 \r\nL 374.084743 31.266016 \r\nL 376.996507 31.786061 \r\nL 379.908272 31.474032 \r\nL 382.820037 31.370024 \r\nL 385.731801 31.994076 \r\nL 388.643566 31.890068 \r\nL 391.555331 32.618134 \r\nL 394.467096 32.202097 \r\nL 397.37886 32.51412 \r\nL 400.290625 31.370024 \r\n\" style=\"fill:none;stroke:#0000ff;stroke-linecap:square;stroke-width:1.5;\"/>\r\n   </g>\r\n   <g id=\"patch_3\">\r\n    <path d=\"M 36.465625 117.118125 \r\nL 36.465625 22.318125 \r\n\" style=\"fill:none;stroke:#000000;stroke-linecap:square;stroke-linejoin:miter;stroke-width:0.8;\"/>\r\n   </g>\r\n   <g id=\"patch_4\">\r\n    <path d=\"M 417.615625 117.118125 \r\nL 417.615625 22.318125 \r\n\" style=\"fill:none;stroke:#000000;stroke-linecap:square;stroke-linejoin:miter;stroke-width:0.8;\"/>\r\n   </g>\r\n   <g id=\"patch_5\">\r\n    <path d=\"M 36.465625 117.118125 \r\nL 417.615625 117.118125 \r\n\" style=\"fill:none;stroke:#000000;stroke-linecap:square;stroke-linejoin:miter;stroke-width:0.8;\"/>\r\n   </g>\r\n   <g id=\"patch_6\">\r\n    <path d=\"M 36.465625 22.318125 \r\nL 417.615625 22.318125 \r\n\" style=\"fill:none;stroke:#000000;stroke-linecap:square;stroke-linejoin:miter;stroke-width:0.8;\"/>\r\n   </g>\r\n   <g id=\"text_12\">\r\n    <!-- Accuracy -->\r\n    <g transform=\"translate(199.646875 16.318125)scale(0.12 -0.12)\">\r\n     <defs>\r\n      <path d=\"M 34.1875 63.1875 \r\nL 20.796875 26.90625 \r\nL 47.609375 26.90625 \r\nz\r\nM 28.609375 72.90625 \r\nL 39.796875 72.90625 \r\nL 67.578125 0 \r\nL 57.328125 0 \r\nL 50.6875 18.703125 \r\nL 17.828125 18.703125 \r\nL 11.1875 0 \r\nL 0.78125 0 \r\nz\r\n\" id=\"DejaVuSans-65\"/>\r\n      <path d=\"M 48.78125 52.59375 \r\nL 48.78125 44.1875 \r\nQ 44.96875 46.296875 41.140625 47.34375 \r\nQ 37.3125 48.390625 33.40625 48.390625 \r\nQ 24.65625 48.390625 19.8125 42.84375 \r\nQ 14.984375 37.3125 14.984375 27.296875 \r\nQ 14.984375 17.28125 19.8125 11.734375 \r\nQ 24.65625 6.203125 33.40625 6.203125 \r\nQ 37.3125 6.203125 41.140625 7.25 \r\nQ 44.96875 8.296875 48.78125 10.40625 \r\nL 48.78125 2.09375 \r\nQ 45.015625 0.34375 40.984375 -0.53125 \r\nQ 36.96875 -1.421875 32.421875 -1.421875 \r\nQ 20.0625 -1.421875 12.78125 6.34375 \r\nQ 5.515625 14.109375 5.515625 27.296875 \r\nQ 5.515625 40.671875 12.859375 48.328125 \r\nQ 20.21875 56 33.015625 56 \r\nQ 37.15625 56 41.109375 55.140625 \r\nQ 45.0625 54.296875 48.78125 52.59375 \r\nz\r\n\" id=\"DejaVuSans-99\"/>\r\n      <path d=\"M 8.5 21.578125 \r\nL 8.5 54.6875 \r\nL 17.484375 54.6875 \r\nL 17.484375 21.921875 \r\nQ 17.484375 14.15625 20.5 10.265625 \r\nQ 23.53125 6.390625 29.59375 6.390625 \r\nQ 36.859375 6.390625 41.078125 11.03125 \r\nQ 45.3125 15.671875 45.3125 23.6875 \r\nL 45.3125 54.6875 \r\nL 54.296875 54.6875 \r\nL 54.296875 0 \r\nL 45.3125 0 \r\nL 45.3125 8.40625 \r\nQ 42.046875 3.421875 37.71875 1 \r\nQ 33.40625 -1.421875 27.6875 -1.421875 \r\nQ 18.265625 -1.421875 13.375 4.4375 \r\nQ 8.5 10.296875 8.5 21.578125 \r\nz\r\nM 31.109375 56 \r\nz\r\n\" id=\"DejaVuSans-117\"/>\r\n      <path d=\"M 41.109375 46.296875 \r\nQ 39.59375 47.171875 37.8125 47.578125 \r\nQ 36.03125 48 33.890625 48 \r\nQ 26.265625 48 22.1875 43.046875 \r\nQ 18.109375 38.09375 18.109375 28.8125 \r\nL 18.109375 0 \r\nL 9.078125 0 \r\nL 9.078125 54.6875 \r\nL 18.109375 54.6875 \r\nL 18.109375 46.1875 \r\nQ 20.953125 51.171875 25.484375 53.578125 \r\nQ 30.03125 56 36.53125 56 \r\nQ 37.453125 56 38.578125 55.875 \r\nQ 39.703125 55.765625 41.0625 55.515625 \r\nz\r\n\" id=\"DejaVuSans-114\"/>\r\n      <path d=\"M 34.28125 27.484375 \r\nQ 23.390625 27.484375 19.1875 25 \r\nQ 14.984375 22.515625 14.984375 16.5 \r\nQ 14.984375 11.71875 18.140625 8.90625 \r\nQ 21.296875 6.109375 26.703125 6.109375 \r\nQ 34.1875 6.109375 38.703125 11.40625 \r\nQ 43.21875 16.703125 43.21875 25.484375 \r\nL 43.21875 27.484375 \r\nz\r\nM 52.203125 31.203125 \r\nL 52.203125 0 \r\nL 43.21875 0 \r\nL 43.21875 8.296875 \r\nQ 40.140625 3.328125 35.546875 0.953125 \r\nQ 30.953125 -1.421875 24.3125 -1.421875 \r\nQ 15.921875 -1.421875 10.953125 3.296875 \r\nQ 6 8.015625 6 15.921875 \r\nQ 6 25.140625 12.171875 29.828125 \r\nQ 18.359375 34.515625 30.609375 34.515625 \r\nL 43.21875 34.515625 \r\nL 43.21875 35.40625 \r\nQ 43.21875 41.609375 39.140625 45 \r\nQ 35.0625 48.390625 27.6875 48.390625 \r\nQ 23 48.390625 18.546875 47.265625 \r\nQ 14.109375 46.140625 10.015625 43.890625 \r\nL 10.015625 52.203125 \r\nQ 14.9375 54.109375 19.578125 55.046875 \r\nQ 24.21875 56 28.609375 56 \r\nQ 40.484375 56 46.34375 49.84375 \r\nQ 52.203125 43.703125 52.203125 31.203125 \r\nz\r\n\" id=\"DejaVuSans-97\"/>\r\n      <path d=\"M 32.171875 -5.078125 \r\nQ 28.375 -14.84375 24.75 -17.8125 \r\nQ 21.140625 -20.796875 15.09375 -20.796875 \r\nL 7.90625 -20.796875 \r\nL 7.90625 -13.28125 \r\nL 13.1875 -13.28125 \r\nQ 16.890625 -13.28125 18.9375 -11.515625 \r\nQ 21 -9.765625 23.484375 -3.21875 \r\nL 25.09375 0.875 \r\nL 2.984375 54.6875 \r\nL 12.5 54.6875 \r\nL 29.59375 11.921875 \r\nL 46.6875 54.6875 \r\nL 56.203125 54.6875 \r\nz\r\n\" id=\"DejaVuSans-121\"/>\r\n     </defs>\r\n     <use xlink:href=\"#DejaVuSans-65\"/>\r\n     <use x=\"66.658203\" xlink:href=\"#DejaVuSans-99\"/>\r\n     <use x=\"121.638672\" xlink:href=\"#DejaVuSans-99\"/>\r\n     <use x=\"176.619141\" xlink:href=\"#DejaVuSans-117\"/>\r\n     <use x=\"239.998047\" xlink:href=\"#DejaVuSans-114\"/>\r\n     <use x=\"281.111328\" xlink:href=\"#DejaVuSans-97\"/>\r\n     <use x=\"342.390625\" xlink:href=\"#DejaVuSans-99\"/>\r\n     <use x=\"397.371094\" xlink:href=\"#DejaVuSans-121\"/>\r\n    </g>\r\n   </g>\r\n   <g id=\"legend_1\">\r\n    <g id=\"patch_7\">\r\n     <path d=\"M 329.38125 112.118125 \r\nL 410.615625 112.118125 \r\nQ 412.615625 112.118125 412.615625 110.118125 \r\nL 412.615625 81.761875 \r\nQ 412.615625 79.761875 410.615625 79.761875 \r\nL 329.38125 79.761875 \r\nQ 327.38125 79.761875 327.38125 81.761875 \r\nL 327.38125 110.118125 \r\nQ 327.38125 112.118125 329.38125 112.118125 \r\nz\r\n\" style=\"fill:#ffffff;opacity:0.8;stroke:#cccccc;stroke-linejoin:miter;\"/>\r\n    </g>\r\n    <g id=\"line2d_14\">\r\n     <path d=\"M 331.38125 87.860313 \r\nL 351.38125 87.860313 \r\n\" style=\"fill:none;stroke:#008000;stroke-linecap:square;stroke-width:1.5;\"/>\r\n    </g>\r\n    <g id=\"line2d_15\"/>\r\n    <g id=\"text_13\">\r\n     <!-- train -->\r\n     <g transform=\"translate(359.38125 91.360313)scale(0.1 -0.1)\">\r\n      <defs>\r\n       <path d=\"M 18.3125 70.21875 \r\nL 18.3125 54.6875 \r\nL 36.8125 54.6875 \r\nL 36.8125 47.703125 \r\nL 18.3125 47.703125 \r\nL 18.3125 18.015625 \r\nQ 18.3125 11.328125 20.140625 9.421875 \r\nQ 21.96875 7.515625 27.59375 7.515625 \r\nL 36.8125 7.515625 \r\nL 36.8125 0 \r\nL 27.59375 0 \r\nQ 17.1875 0 13.234375 3.875 \r\nQ 9.28125 7.765625 9.28125 18.015625 \r\nL 9.28125 47.703125 \r\nL 2.6875 47.703125 \r\nL 2.6875 54.6875 \r\nL 9.28125 54.6875 \r\nL 9.28125 70.21875 \r\nz\r\n\" id=\"DejaVuSans-116\"/>\r\n       <path d=\"M 9.421875 54.6875 \r\nL 18.40625 54.6875 \r\nL 18.40625 0 \r\nL 9.421875 0 \r\nz\r\nM 9.421875 75.984375 \r\nL 18.40625 75.984375 \r\nL 18.40625 64.59375 \r\nL 9.421875 64.59375 \r\nz\r\n\" id=\"DejaVuSans-105\"/>\r\n       <path d=\"M 54.890625 33.015625 \r\nL 54.890625 0 \r\nL 45.90625 0 \r\nL 45.90625 32.71875 \r\nQ 45.90625 40.484375 42.875 44.328125 \r\nQ 39.84375 48.1875 33.796875 48.1875 \r\nQ 26.515625 48.1875 22.3125 43.546875 \r\nQ 18.109375 38.921875 18.109375 30.90625 \r\nL 18.109375 0 \r\nL 9.078125 0 \r\nL 9.078125 54.6875 \r\nL 18.109375 54.6875 \r\nL 18.109375 46.1875 \r\nQ 21.34375 51.125 25.703125 53.5625 \r\nQ 30.078125 56 35.796875 56 \r\nQ 45.21875 56 50.046875 50.171875 \r\nQ 54.890625 44.34375 54.890625 33.015625 \r\nz\r\n\" id=\"DejaVuSans-110\"/>\r\n      </defs>\r\n      <use xlink:href=\"#DejaVuSans-116\"/>\r\n      <use x=\"39.208984\" xlink:href=\"#DejaVuSans-114\"/>\r\n      <use x=\"80.322266\" xlink:href=\"#DejaVuSans-97\"/>\r\n      <use x=\"141.601562\" xlink:href=\"#DejaVuSans-105\"/>\r\n      <use x=\"169.384766\" xlink:href=\"#DejaVuSans-110\"/>\r\n     </g>\r\n    </g>\r\n    <g id=\"line2d_16\">\r\n     <path d=\"M 331.38125 102.538438 \r\nL 351.38125 102.538438 \r\n\" style=\"fill:none;stroke:#0000ff;stroke-linecap:square;stroke-width:1.5;\"/>\r\n    </g>\r\n    <g id=\"line2d_17\"/>\r\n    <g id=\"text_14\">\r\n     <!-- validation -->\r\n     <g transform=\"translate(359.38125 106.038438)scale(0.1 -0.1)\">\r\n      <defs>\r\n       <path d=\"M 2.984375 54.6875 \r\nL 12.5 54.6875 \r\nL 29.59375 8.796875 \r\nL 46.6875 54.6875 \r\nL 56.203125 54.6875 \r\nL 35.6875 0 \r\nL 23.484375 0 \r\nz\r\n\" id=\"DejaVuSans-118\"/>\r\n       <path d=\"M 9.421875 75.984375 \r\nL 18.40625 75.984375 \r\nL 18.40625 0 \r\nL 9.421875 0 \r\nz\r\n\" id=\"DejaVuSans-108\"/>\r\n       <path d=\"M 45.40625 46.390625 \r\nL 45.40625 75.984375 \r\nL 54.390625 75.984375 \r\nL 54.390625 0 \r\nL 45.40625 0 \r\nL 45.40625 8.203125 \r\nQ 42.578125 3.328125 38.25 0.953125 \r\nQ 33.9375 -1.421875 27.875 -1.421875 \r\nQ 17.96875 -1.421875 11.734375 6.484375 \r\nQ 5.515625 14.40625 5.515625 27.296875 \r\nQ 5.515625 40.1875 11.734375 48.09375 \r\nQ 17.96875 56 27.875 56 \r\nQ 33.9375 56 38.25 53.625 \r\nQ 42.578125 51.265625 45.40625 46.390625 \r\nz\r\nM 14.796875 27.296875 \r\nQ 14.796875 17.390625 18.875 11.75 \r\nQ 22.953125 6.109375 30.078125 6.109375 \r\nQ 37.203125 6.109375 41.296875 11.75 \r\nQ 45.40625 17.390625 45.40625 27.296875 \r\nQ 45.40625 37.203125 41.296875 42.84375 \r\nQ 37.203125 48.484375 30.078125 48.484375 \r\nQ 22.953125 48.484375 18.875 42.84375 \r\nQ 14.796875 37.203125 14.796875 27.296875 \r\nz\r\n\" id=\"DejaVuSans-100\"/>\r\n       <path d=\"M 30.609375 48.390625 \r\nQ 23.390625 48.390625 19.1875 42.75 \r\nQ 14.984375 37.109375 14.984375 27.296875 \r\nQ 14.984375 17.484375 19.15625 11.84375 \r\nQ 23.34375 6.203125 30.609375 6.203125 \r\nQ 37.796875 6.203125 41.984375 11.859375 \r\nQ 46.1875 17.53125 46.1875 27.296875 \r\nQ 46.1875 37.015625 41.984375 42.703125 \r\nQ 37.796875 48.390625 30.609375 48.390625 \r\nz\r\nM 30.609375 56 \r\nQ 42.328125 56 49.015625 48.375 \r\nQ 55.71875 40.765625 55.71875 27.296875 \r\nQ 55.71875 13.875 49.015625 6.21875 \r\nQ 42.328125 -1.421875 30.609375 -1.421875 \r\nQ 18.84375 -1.421875 12.171875 6.21875 \r\nQ 5.515625 13.875 5.515625 27.296875 \r\nQ 5.515625 40.765625 12.171875 48.375 \r\nQ 18.84375 56 30.609375 56 \r\nz\r\n\" id=\"DejaVuSans-111\"/>\r\n      </defs>\r\n      <use xlink:href=\"#DejaVuSans-118\"/>\r\n      <use x=\"59.179688\" xlink:href=\"#DejaVuSans-97\"/>\r\n      <use x=\"120.458984\" xlink:href=\"#DejaVuSans-108\"/>\r\n      <use x=\"148.242188\" xlink:href=\"#DejaVuSans-105\"/>\r\n      <use x=\"176.025391\" xlink:href=\"#DejaVuSans-100\"/>\r\n      <use x=\"239.501953\" xlink:href=\"#DejaVuSans-97\"/>\r\n      <use x=\"300.78125\" xlink:href=\"#DejaVuSans-116\"/>\r\n      <use x=\"339.990234\" xlink:href=\"#DejaVuSans-105\"/>\r\n      <use x=\"367.773438\" xlink:href=\"#DejaVuSans-111\"/>\r\n      <use x=\"428.955078\" xlink:href=\"#DejaVuSans-110\"/>\r\n     </g>\r\n    </g>\r\n   </g>\r\n  </g>\r\n  <g id=\"axes_2\">\r\n   <g id=\"patch_8\">\r\n    <path d=\"M 36.465625 255.718125 \r\nL 417.615625 255.718125 \r\nL 417.615625 160.918125 \r\nL 36.465625 160.918125 \r\nz\r\n\" style=\"fill:#ffffff;\"/>\r\n   </g>\r\n   <g id=\"matplotlib.axis_3\">\r\n    <g id=\"xtick_8\">\r\n     <g id=\"line2d_18\">\r\n      <g>\r\n       <use style=\"stroke:#000000;stroke-width:0.8;\" x=\"53.790625\" xlink:href=\"#m1a5424316d\" y=\"255.718125\"/>\r\n      </g>\r\n     </g>\r\n     <g id=\"text_15\">\r\n      <!-- 0 -->\r\n      <g transform=\"translate(50.609375 270.316563)scale(0.1 -0.1)\">\r\n       <use xlink:href=\"#DejaVuSans-48\"/>\r\n      </g>\r\n     </g>\r\n    </g>\r\n    <g id=\"xtick_9\">\r\n     <g id=\"line2d_19\">\r\n      <g>\r\n       <use style=\"stroke:#000000;stroke-width:0.8;\" x=\"112.025919\" xlink:href=\"#m1a5424316d\" y=\"255.718125\"/>\r\n      </g>\r\n     </g>\r\n     <g id=\"text_16\">\r\n      <!-- 20 -->\r\n      <g transform=\"translate(105.663419 270.316563)scale(0.1 -0.1)\">\r\n       <use xlink:href=\"#DejaVuSans-50\"/>\r\n       <use x=\"63.623047\" xlink:href=\"#DejaVuSans-48\"/>\r\n      </g>\r\n     </g>\r\n    </g>\r\n    <g id=\"xtick_10\">\r\n     <g id=\"line2d_20\">\r\n      <g>\r\n       <use style=\"stroke:#000000;stroke-width:0.8;\" x=\"170.261213\" xlink:href=\"#m1a5424316d\" y=\"255.718125\"/>\r\n      </g>\r\n     </g>\r\n     <g id=\"text_17\">\r\n      <!-- 40 -->\r\n      <g transform=\"translate(163.898713 270.316563)scale(0.1 -0.1)\">\r\n       <use xlink:href=\"#DejaVuSans-52\"/>\r\n       <use x=\"63.623047\" xlink:href=\"#DejaVuSans-48\"/>\r\n      </g>\r\n     </g>\r\n    </g>\r\n    <g id=\"xtick_11\">\r\n     <g id=\"line2d_21\">\r\n      <g>\r\n       <use style=\"stroke:#000000;stroke-width:0.8;\" x=\"228.496507\" xlink:href=\"#m1a5424316d\" y=\"255.718125\"/>\r\n      </g>\r\n     </g>\r\n     <g id=\"text_18\">\r\n      <!-- 60 -->\r\n      <g transform=\"translate(222.134007 270.316563)scale(0.1 -0.1)\">\r\n       <use xlink:href=\"#DejaVuSans-54\"/>\r\n       <use x=\"63.623047\" xlink:href=\"#DejaVuSans-48\"/>\r\n      </g>\r\n     </g>\r\n    </g>\r\n    <g id=\"xtick_12\">\r\n     <g id=\"line2d_22\">\r\n      <g>\r\n       <use style=\"stroke:#000000;stroke-width:0.8;\" x=\"286.731801\" xlink:href=\"#m1a5424316d\" y=\"255.718125\"/>\r\n      </g>\r\n     </g>\r\n     <g id=\"text_19\">\r\n      <!-- 80 -->\r\n      <g transform=\"translate(280.369301 270.316563)scale(0.1 -0.1)\">\r\n       <use xlink:href=\"#DejaVuSans-56\"/>\r\n       <use x=\"63.623047\" xlink:href=\"#DejaVuSans-48\"/>\r\n      </g>\r\n     </g>\r\n    </g>\r\n    <g id=\"xtick_13\">\r\n     <g id=\"line2d_23\">\r\n      <g>\r\n       <use style=\"stroke:#000000;stroke-width:0.8;\" x=\"344.967096\" xlink:href=\"#m1a5424316d\" y=\"255.718125\"/>\r\n      </g>\r\n     </g>\r\n     <g id=\"text_20\">\r\n      <!-- 100 -->\r\n      <g transform=\"translate(335.423346 270.316563)scale(0.1 -0.1)\">\r\n       <use xlink:href=\"#DejaVuSans-49\"/>\r\n       <use x=\"63.623047\" xlink:href=\"#DejaVuSans-48\"/>\r\n       <use x=\"127.246094\" xlink:href=\"#DejaVuSans-48\"/>\r\n      </g>\r\n     </g>\r\n    </g>\r\n    <g id=\"xtick_14\">\r\n     <g id=\"line2d_24\">\r\n      <g>\r\n       <use style=\"stroke:#000000;stroke-width:0.8;\" x=\"403.20239\" xlink:href=\"#m1a5424316d\" y=\"255.718125\"/>\r\n      </g>\r\n     </g>\r\n     <g id=\"text_21\">\r\n      <!-- 120 -->\r\n      <g transform=\"translate(393.65864 270.316563)scale(0.1 -0.1)\">\r\n       <use xlink:href=\"#DejaVuSans-49\"/>\r\n       <use x=\"63.623047\" xlink:href=\"#DejaVuSans-50\"/>\r\n       <use x=\"127.246094\" xlink:href=\"#DejaVuSans-48\"/>\r\n      </g>\r\n     </g>\r\n    </g>\r\n   </g>\r\n   <g id=\"matplotlib.axis_4\">\r\n    <g id=\"ytick_5\">\r\n     <g id=\"line2d_25\">\r\n      <g>\r\n       <use style=\"stroke:#000000;stroke-width:0.8;\" x=\"36.465625\" xlink:href=\"#m5d6619afe1\" y=\"253.44266\"/>\r\n      </g>\r\n     </g>\r\n     <g id=\"text_22\">\r\n      <!-- 0 -->\r\n      <g transform=\"translate(23.103125 257.241878)scale(0.1 -0.1)\">\r\n       <use xlink:href=\"#DejaVuSans-48\"/>\r\n      </g>\r\n     </g>\r\n    </g>\r\n    <g id=\"ytick_6\">\r\n     <g id=\"line2d_26\">\r\n      <g>\r\n       <use style=\"stroke:#000000;stroke-width:0.8;\" x=\"36.465625\" xlink:href=\"#m5d6619afe1\" y=\"206.910428\"/>\r\n      </g>\r\n     </g>\r\n     <g id=\"text_23\">\r\n      <!-- 1 -->\r\n      <g transform=\"translate(23.103125 210.709647)scale(0.1 -0.1)\">\r\n       <use xlink:href=\"#DejaVuSans-49\"/>\r\n      </g>\r\n     </g>\r\n    </g>\r\n   </g>\r\n   <g id=\"line2d_27\">\r\n    <path clip-path=\"url(#p2d22697954)\" d=\"M 53.790625 165.227216 \r\nL 56.70239 173.499984 \r\nL 59.614154 181.358041 \r\nL 62.525919 184.500653 \r\nL 65.437684 187.728473 \r\nL 68.349449 189.713527 \r\nL 71.261213 190.699819 \r\nL 74.172978 191.153093 \r\nL 77.084743 191.946779 \r\nL 79.996507 192.638327 \r\nL 82.908272 193.408156 \r\nL 85.820037 194.238198 \r\nL 88.731801 194.776048 \r\nL 91.643566 195.618815 \r\nL 94.555331 195.941017 \r\nL 97.467096 196.83647 \r\nL 100.37886 196.875305 \r\nL 103.290625 197.44413 \r\nL 106.20239 198.66017 \r\nL 109.114154 201.218303 \r\nL 112.025919 204.544961 \r\nL 114.937684 209.2159 \r\nL 117.849449 212.780059 \r\nL 120.761213 215.750995 \r\nL 123.672978 217.599735 \r\nL 126.584743 220.094495 \r\nL 129.496507 221.401502 \r\nL 132.408272 222.912251 \r\nL 135.320037 224.411994 \r\nL 138.231801 225.666368 \r\nL 141.143566 226.703418 \r\nL 144.055331 227.879681 \r\nL 146.967096 229.132779 \r\nL 149.87886 230.382365 \r\nL 152.790625 231.324956 \r\nL 155.70239 232.383558 \r\nL 158.614154 233.345521 \r\nL 161.525919 234.200285 \r\nL 164.437684 234.953067 \r\nL 167.349449 235.582469 \r\nL 170.261213 235.990395 \r\nL 173.172978 236.797596 \r\nL 176.084743 237.151836 \r\nL 178.996507 237.218706 \r\nL 181.908272 238.061438 \r\nL 184.820037 238.372589 \r\nL 187.731801 238.584373 \r\nL 190.643566 238.880927 \r\nL 193.555331 239.387369 \r\nL 196.467096 239.817204 \r\nL 199.37886 240.202456 \r\nL 202.290625 240.616364 \r\nL 205.20239 240.494985 \r\nL 208.114154 241.205665 \r\nL 211.025919 241.676317 \r\nL 213.937684 241.600555 \r\nL 216.849449 242.263947 \r\nL 219.761213 242.789303 \r\nL 222.672978 242.766127 \r\nL 225.584743 242.897094 \r\nL 228.496507 243.277196 \r\nL 231.408272 243.934582 \r\nL 234.320037 244.044724 \r\nL 237.231801 244.468603 \r\nL 240.143566 244.580349 \r\nL 243.055331 244.750252 \r\nL 245.967096 245.343227 \r\nL 248.87886 245.232332 \r\nL 251.790625 245.543178 \r\nL 254.70239 245.884408 \r\nL 257.614154 246.150404 \r\nL 260.525919 246.597981 \r\nL 263.437684 246.656976 \r\nL 266.349449 246.766869 \r\nL 269.261213 246.768836 \r\nL 272.172978 247.084602 \r\nL 275.084743 247.113607 \r\nL 277.996507 247.539053 \r\nL 280.908272 247.510352 \r\nL 283.820037 248.002252 \r\nL 286.731801 248.025378 \r\nL 289.643566 248.314316 \r\nL 292.555331 248.489986 \r\nL 295.467096 248.673901 \r\nL 298.37886 248.673473 \r\nL 301.290625 248.288902 \r\nL 304.20239 249.022771 \r\nL 307.114154 248.955729 \r\nL 310.025919 249.03542 \r\nL 312.937684 249.201821 \r\nL 315.849449 249.461699 \r\nL 318.761213 249.275296 \r\nL 321.672978 249.640109 \r\nL 324.584743 249.66593 \r\nL 327.496507 249.795699 \r\nL 330.408272 249.712262 \r\nL 333.320037 249.970526 \r\nL 336.231801 249.989009 \r\nL 339.143566 250.229101 \r\nL 342.055331 250.050901 \r\nL 344.967096 250.01275 \r\nL 347.87886 250.619014 \r\nL 350.790625 250.503109 \r\nL 353.70239 250.495569 \r\nL 356.614154 250.455625 \r\nL 359.525919 250.57185 \r\nL 362.437684 250.769549 \r\nL 365.349449 250.679243 \r\nL 368.261213 250.667428 \r\nL 371.172978 250.921962 \r\nL 374.084743 250.870975 \r\nL 376.996507 250.814841 \r\nL 379.908272 251.295537 \r\nL 382.820037 250.838425 \r\nL 385.731801 251.087956 \r\nL 388.643566 251.079768 \r\nL 391.555331 250.978977 \r\nL 394.467096 251.23328 \r\nL 397.37886 251.142902 \r\nL 400.290625 251.409034 \r\n\" style=\"fill:none;stroke:#008000;stroke-linecap:square;stroke-width:1.5;\"/>\r\n   </g>\r\n   <g id=\"line2d_28\">\r\n    <path clip-path=\"url(#p2d22697954)\" d=\"M 53.790625 169.720346 \r\nL 56.70239 179.24054 \r\nL 59.614154 184.937208 \r\nL 62.525919 187.004941 \r\nL 65.437684 190.136813 \r\nL 68.349449 190.634341 \r\nL 71.261213 191.795716 \r\nL 74.172978 191.88022 \r\nL 77.084743 192.592143 \r\nL 79.996507 193.672424 \r\nL 82.908272 193.730829 \r\nL 85.820037 195.457101 \r\nL 88.731801 194.130574 \r\nL 91.643566 195.85958 \r\nL 94.555331 195.295382 \r\nL 97.467096 197.346568 \r\nL 100.37886 197.246138 \r\nL 103.290625 197.753895 \r\nL 106.20239 200.765995 \r\nL 109.114154 204.093391 \r\nL 112.025919 209.481932 \r\nL 114.937684 213.734292 \r\nL 117.849449 216.786769 \r\nL 120.761213 219.265798 \r\nL 123.672978 220.50213 \r\nL 126.584743 220.808337 \r\nL 129.496507 222.380958 \r\nL 132.408272 223.169058 \r\nL 135.320037 224.202564 \r\nL 138.231801 225.655484 \r\nL 141.143566 226.280881 \r\nL 144.055331 227.149236 \r\nL 146.967096 228.269144 \r\nL 149.87886 229.229137 \r\nL 152.790625 230.474248 \r\nL 155.70239 231.282524 \r\nL 158.614154 232.574532 \r\nL 161.525919 233.415034 \r\nL 164.437684 233.415393 \r\nL 167.349449 233.445436 \r\nL 170.261213 234.586178 \r\nL 173.172978 234.952819 \r\nL 176.084743 234.836941 \r\nL 178.996507 235.374839 \r\nL 181.908272 235.33793 \r\nL 184.820037 235.494097 \r\nL 187.731801 235.383304 \r\nL 190.643566 235.369462 \r\nL 193.555331 235.447535 \r\nL 196.467096 235.888147 \r\nL 199.37886 236.245828 \r\nL 202.290625 235.922563 \r\nL 205.20239 236.73684 \r\nL 208.114154 237.004465 \r\nL 211.025919 236.213446 \r\nL 213.937684 236.470092 \r\nL 216.849449 236.268382 \r\nL 219.761213 237.525182 \r\nL 222.672978 237.259481 \r\nL 225.584743 237.346223 \r\nL 228.496507 237.311177 \r\nL 231.408272 237.858175 \r\nL 234.320037 238.429093 \r\nL 237.231801 238.162572 \r\nL 240.143566 238.360104 \r\nL 243.055331 238.931824 \r\nL 245.967096 238.85413 \r\nL 248.87886 239.196261 \r\nL 251.790625 239.092014 \r\nL 254.70239 239.974861 \r\nL 257.614154 239.882842 \r\nL 260.525919 237.807146 \r\nL 263.437684 240.522857 \r\nL 266.349449 240.660353 \r\nL 269.261213 240.521782 \r\nL 272.172978 240.148894 \r\nL 275.084743 241.335925 \r\nL 277.996507 241.355961 \r\nL 280.908272 241.076549 \r\nL 283.820037 240.624898 \r\nL 286.731801 240.867951 \r\nL 289.643566 240.431029 \r\nL 292.555331 240.847494 \r\nL 295.467096 241.008771 \r\nL 298.37886 241.516055 \r\nL 301.290625 241.589714 \r\nL 304.20239 241.488179 \r\nL 307.114154 241.033721 \r\nL 310.025919 241.338261 \r\nL 312.937684 242.093073 \r\nL 315.849449 241.847039 \r\nL 318.761213 241.807262 \r\nL 321.672978 240.589833 \r\nL 324.584743 240.998822 \r\nL 327.496507 241.681308 \r\nL 330.408272 242.531049 \r\nL 333.320037 241.519799 \r\nL 336.231801 242.399022 \r\nL 339.143566 242.024682 \r\nL 342.055331 239.416554 \r\nL 344.967096 242.212314 \r\nL 347.87886 241.785889 \r\nL 350.790625 242.273689 \r\nL 353.70239 240.62654 \r\nL 356.614154 241.831777 \r\nL 359.525919 241.269204 \r\nL 362.437684 241.800681 \r\nL 365.349449 242.253936 \r\nL 368.261213 242.083338 \r\nL 371.172978 242.053586 \r\nL 374.084743 242.85485 \r\nL 376.996507 242.207802 \r\nL 379.908272 242.452071 \r\nL 382.820037 242.649491 \r\nL 385.731801 242.824765 \r\nL 388.643566 242.262116 \r\nL 391.555331 241.773386 \r\nL 394.467096 242.204973 \r\nL 397.37886 241.263634 \r\nL 400.290625 241.839274 \r\n\" style=\"fill:none;stroke:#0000ff;stroke-linecap:square;stroke-width:1.5;\"/>\r\n   </g>\r\n   <g id=\"patch_9\">\r\n    <path d=\"M 36.465625 255.718125 \r\nL 36.465625 160.918125 \r\n\" style=\"fill:none;stroke:#000000;stroke-linecap:square;stroke-linejoin:miter;stroke-width:0.8;\"/>\r\n   </g>\r\n   <g id=\"patch_10\">\r\n    <path d=\"M 417.615625 255.718125 \r\nL 417.615625 160.918125 \r\n\" style=\"fill:none;stroke:#000000;stroke-linecap:square;stroke-linejoin:miter;stroke-width:0.8;\"/>\r\n   </g>\r\n   <g id=\"patch_11\">\r\n    <path d=\"M 36.465625 255.718125 \r\nL 417.615625 255.718125 \r\n\" style=\"fill:none;stroke:#000000;stroke-linecap:square;stroke-linejoin:miter;stroke-width:0.8;\"/>\r\n   </g>\r\n   <g id=\"patch_12\">\r\n    <path d=\"M 36.465625 160.918125 \r\nL 417.615625 160.918125 \r\n\" style=\"fill:none;stroke:#000000;stroke-linecap:square;stroke-linejoin:miter;stroke-width:0.8;\"/>\r\n   </g>\r\n   <g id=\"text_24\">\r\n    <!-- Loss -->\r\n    <g transform=\"translate(213.88 154.918125)scale(0.12 -0.12)\">\r\n     <defs>\r\n      <path d=\"M 9.8125 72.90625 \r\nL 19.671875 72.90625 \r\nL 19.671875 8.296875 \r\nL 55.171875 8.296875 \r\nL 55.171875 0 \r\nL 9.8125 0 \r\nz\r\n\" id=\"DejaVuSans-76\"/>\r\n      <path d=\"M 44.28125 53.078125 \r\nL 44.28125 44.578125 \r\nQ 40.484375 46.53125 36.375 47.5 \r\nQ 32.28125 48.484375 27.875 48.484375 \r\nQ 21.1875 48.484375 17.84375 46.4375 \r\nQ 14.5 44.390625 14.5 40.28125 \r\nQ 14.5 37.15625 16.890625 35.375 \r\nQ 19.28125 33.59375 26.515625 31.984375 \r\nL 29.59375 31.296875 \r\nQ 39.15625 29.25 43.1875 25.515625 \r\nQ 47.21875 21.78125 47.21875 15.09375 \r\nQ 47.21875 7.46875 41.1875 3.015625 \r\nQ 35.15625 -1.421875 24.609375 -1.421875 \r\nQ 20.21875 -1.421875 15.453125 -0.5625 \r\nQ 10.6875 0.296875 5.421875 2 \r\nL 5.421875 11.28125 \r\nQ 10.40625 8.6875 15.234375 7.390625 \r\nQ 20.0625 6.109375 24.8125 6.109375 \r\nQ 31.15625 6.109375 34.5625 8.28125 \r\nQ 37.984375 10.453125 37.984375 14.40625 \r\nQ 37.984375 18.0625 35.515625 20.015625 \r\nQ 33.0625 21.96875 24.703125 23.78125 \r\nL 21.578125 24.515625 \r\nQ 13.234375 26.265625 9.515625 29.90625 \r\nQ 5.8125 33.546875 5.8125 39.890625 \r\nQ 5.8125 47.609375 11.28125 51.796875 \r\nQ 16.75 56 26.8125 56 \r\nQ 31.78125 56 36.171875 55.265625 \r\nQ 40.578125 54.546875 44.28125 53.078125 \r\nz\r\n\" id=\"DejaVuSans-115\"/>\r\n     </defs>\r\n     <use xlink:href=\"#DejaVuSans-76\"/>\r\n     <use x=\"53.962891\" xlink:href=\"#DejaVuSans-111\"/>\r\n     <use x=\"115.144531\" xlink:href=\"#DejaVuSans-115\"/>\r\n     <use x=\"167.244141\" xlink:href=\"#DejaVuSans-115\"/>\r\n    </g>\r\n   </g>\r\n   <g id=\"legend_2\">\r\n    <g id=\"patch_13\">\r\n     <path d=\"M 329.38125 198.274375 \r\nL 410.615625 198.274375 \r\nQ 412.615625 198.274375 412.615625 196.274375 \r\nL 412.615625 167.918125 \r\nQ 412.615625 165.918125 410.615625 165.918125 \r\nL 329.38125 165.918125 \r\nQ 327.38125 165.918125 327.38125 167.918125 \r\nL 327.38125 196.274375 \r\nQ 327.38125 198.274375 329.38125 198.274375 \r\nz\r\n\" style=\"fill:#ffffff;opacity:0.8;stroke:#cccccc;stroke-linejoin:miter;\"/>\r\n    </g>\r\n    <g id=\"line2d_29\">\r\n     <path d=\"M 331.38125 174.016563 \r\nL 351.38125 174.016563 \r\n\" style=\"fill:none;stroke:#008000;stroke-linecap:square;stroke-width:1.5;\"/>\r\n    </g>\r\n    <g id=\"line2d_30\"/>\r\n    <g id=\"text_25\">\r\n     <!-- train -->\r\n     <g transform=\"translate(359.38125 177.516563)scale(0.1 -0.1)\">\r\n      <use xlink:href=\"#DejaVuSans-116\"/>\r\n      <use x=\"39.208984\" xlink:href=\"#DejaVuSans-114\"/>\r\n      <use x=\"80.322266\" xlink:href=\"#DejaVuSans-97\"/>\r\n      <use x=\"141.601562\" xlink:href=\"#DejaVuSans-105\"/>\r\n      <use x=\"169.384766\" xlink:href=\"#DejaVuSans-110\"/>\r\n     </g>\r\n    </g>\r\n    <g id=\"line2d_31\">\r\n     <path d=\"M 331.38125 188.694688 \r\nL 351.38125 188.694688 \r\n\" style=\"fill:none;stroke:#0000ff;stroke-linecap:square;stroke-width:1.5;\"/>\r\n    </g>\r\n    <g id=\"line2d_32\"/>\r\n    <g id=\"text_26\">\r\n     <!-- validation -->\r\n     <g transform=\"translate(359.38125 192.194688)scale(0.1 -0.1)\">\r\n      <use xlink:href=\"#DejaVuSans-118\"/>\r\n      <use x=\"59.179688\" xlink:href=\"#DejaVuSans-97\"/>\r\n      <use x=\"120.458984\" xlink:href=\"#DejaVuSans-108\"/>\r\n      <use x=\"148.242188\" xlink:href=\"#DejaVuSans-105\"/>\r\n      <use x=\"176.025391\" xlink:href=\"#DejaVuSans-100\"/>\r\n      <use x=\"239.501953\" xlink:href=\"#DejaVuSans-97\"/>\r\n      <use x=\"300.78125\" xlink:href=\"#DejaVuSans-116\"/>\r\n      <use x=\"339.990234\" xlink:href=\"#DejaVuSans-105\"/>\r\n      <use x=\"367.773438\" xlink:href=\"#DejaVuSans-111\"/>\r\n      <use x=\"428.955078\" xlink:href=\"#DejaVuSans-110\"/>\r\n     </g>\r\n    </g>\r\n   </g>\r\n  </g>\r\n </g>\r\n <defs>\r\n  <clipPath id=\"p7403b00a64\">\r\n   <rect height=\"94.8\" width=\"381.15\" x=\"36.465625\" y=\"22.318125\"/>\r\n  </clipPath>\r\n  <clipPath id=\"p2d22697954\">\r\n   <rect height=\"94.8\" width=\"381.15\" x=\"36.465625\" y=\"160.918125\"/>\r\n  </clipPath>\r\n </defs>\r\n</svg>\r\n",
      "image/png": "[encoded data removed]"
     },
     "metadata": {
      "needs_background": "light"
     }
    }
   ],
   "source": [
    "# plot accuracy and loss plot\n",
    "plt.subplot(211)\n",
    "plt.title(\"Accuracy\")\n",
    "plt.plot(history.history[\"acc\"], color=\"g\", label=\"train\")\n",
    "plt.plot(history.history[\"val_acc\"], color=\"b\", label=\"validation\")\n",
    "plt.legend(loc=\"best\")\n",
    "\n",
    "plt.subplot(212)\n",
    "plt.title(\"Loss\")\n",
    "plt.plot(history.history[\"loss\"], color=\"g\", label=\"train\")\n",
    "plt.plot(history.history[\"val_loss\"], color=\"b\", label=\"validation\")\n",
    "plt.legend(loc=\"best\")\n",
    "\n",
    "plt.tight_layout()\n",
    "plt.show()\n",
    "\n",
    "# labels\n",
    "ytest = np.argmax(Ytest, axis=1)\n",
    "\n",
    "# get predictions\n",
    "Ytest_ = model.predict([Xstest, Xqtest])\n",
    "ytest_ = np.argmax(Ytest_, axis=1)"
   ]
  },
  {
   "cell_type": "code",
   "execution_count": null,
   "metadata": {},
   "outputs": [],
   "source": []
  }
 ]
}